{
 "cells": [
  {
   "cell_type": "code",
   "execution_count": 315,
   "outputs": [],
   "source": [
    "import json\n",
    "\n",
    "import pandas as pd\n",
    "import requests\n",
    "from bs4 import BeautifulSoup\n",
    "\n",
    "# league_id = (\"PL1\", \"A1\", \"SLO1\", \"UKR1\")\n",
    "league_id = (\"PL1\",)\n",
    "\n",
    "# clubs = []"
   ],
   "metadata": {
    "collapsed": false
   }
  },
  {
   "cell_type": "code",
   "execution_count": 331,
   "outputs": [],
   "source": [
    "class ScrapeFromTM:\n",
    "    headers = {\n",
    "        \"user-agent\": \"Mozilla/5.0 (Windows NT 10.0; Win64; x64) AppleWebKit/537.36 (KHTML, like Gecko) Chrome/109.0.0.0 Safari/537.36 OPR/95.0.0.0\"}\n",
    "\n",
    "    def __init__(self, leagues: tuple):\n",
    "        self.df = None\n",
    "        self.leagues = leagues\n",
    "        self.clubs = []\n",
    "        self.data = {\n",
    "            'name': [],\n",
    "            'date of birth': [],\n",
    "            'height': [],\n",
    "            'foot': [],\n",
    "            'joined': [],\n",
    "            'contract until': [],\n",
    "        }\n",
    "\n",
    "    def get_team_urls(self):\n",
    "        for league in self.leagues:\n",
    "            url = \"https://www.transfermarkt.co.uk/quickselect/teams/\" + league\n",
    "            print(url)\n",
    "            response = requests.request(\"GET\", url, headers=ScrapeFromTM.headers)\n",
    "            # print(response.text)\n",
    "            for l in json.loads(response.text):\n",
    "                self.clubs.append(\"https://transfermarkt.co.uk\" + l[\"link\"])\n",
    "\n",
    "    def get_player_stats(self):\n",
    "        for club in self.clubs:\n",
    "            url = club.replace(\"startseite\", \"kader\") + \"/plus/1\"\n",
    "            response = requests.get(url, headers=ScrapeFromTM.headers)\n",
    "            soup = BeautifulSoup(response.content, 'html.parser')\n",
    "\n",
    "            all_tr = soup.find_all('tr', {'class': ['odd', 'even']})\n",
    "\n",
    "            for row in all_tr:\n",
    "                all_td = row.find_all('td', recursive=False)\n",
    "\n",
    "                self.data['name'].append(all_td[1].text.split('.')[0][:-1])\n",
    "                self.data['date of birth'].append(all_td[2].text[:-5])\n",
    "                self.data['height'].append(all_td[4].text)\n",
    "                self.data['foot'].append(all_td[5].text)\n",
    "                self.data['joined'].append(all_td[6].text)\n",
    "                self.data['contract until'].append(all_td[8].text)\n",
    "\n",
    "    def create_dataset(self):\n",
    "        self.df = pd.DataFrame(self.data)\n",
    "\n",
    "    def clean_data(self):\n",
    "        self.df[\"position\"] = self.df[\"name\"].apply(lambda x: ScrapeFromTM.clean_name_col(x)[1])\n",
    "        self.df[\"name\"] = self.df[\"name\"].apply(lambda x: ScrapeFromTM.clean_name_col(x)[0])\n",
    "        self.df[\"height\"] = self.df[\"height\"].apply(lambda x: float(x[:3].replace(\",\", \".\")) if x != \"-\" else None)\n",
    "\n",
    "    def save_to_csv_file(self, filename):\n",
    "        self.df.to_csv(f\"{filename}\")\n",
    "\n",
    "    @staticmethod\n",
    "    def clean_name_col(x):\n",
    "        return x.replace('\\n', '').strip().split(\"    \")[0], x.replace('\\n', '').strip().split(\"    \")[-1]"
   ],
   "metadata": {
    "collapsed": false
   }
  },
  {
   "cell_type": "code",
   "execution_count": 332,
   "outputs": [
    {
     "name": "stdout",
     "output_type": "stream",
     "text": [
      "https://www.transfermarkt.co.uk/quickselect/teams/PL1\n"
     ]
    }
   ],
   "source": [
    "new_scrape = ScrapeFromTM(league_id)\n",
    "new_scrape.get_team_urls()"
   ],
   "metadata": {
    "collapsed": false
   }
  },
  {
   "cell_type": "code",
   "execution_count": 333,
   "outputs": [
    {
     "data": {
      "text/plain": "['https://transfermarkt.co.uk/lech-poznan/startseite/verein/238',\n 'https://transfermarkt.co.uk/rakow-czestochowa/startseite/verein/9644',\n 'https://transfermarkt.co.uk/pogon-szczecin/startseite/verein/324',\n 'https://transfermarkt.co.uk/lechia-gdansk/startseite/verein/4000',\n 'https://transfermarkt.co.uk/piast-gliwice/startseite/verein/6112',\n 'https://transfermarkt.co.uk/wisla-plock/startseite/verein/2118',\n 'https://transfermarkt.co.uk/radomiak-radom/startseite/verein/7154',\n 'https://transfermarkt.co.uk/gornik-zabrze/startseite/verein/428',\n 'https://transfermarkt.co.uk/cracovia/startseite/verein/5689',\n 'https://transfermarkt.co.uk/legia-warszawa/startseite/verein/255',\n 'https://transfermarkt.co.uk/warta-poznan/startseite/verein/7146',\n 'https://transfermarkt.co.uk/jagiellonia-bialystok/startseite/verein/2300',\n 'https://transfermarkt.co.uk/zaglebie-lubin/startseite/verein/168',\n 'https://transfermarkt.co.uk/stal-mielec/startseite/verein/22431',\n 'https://transfermarkt.co.uk/slask-wroclaw/startseite/verein/759',\n 'https://transfermarkt.co.uk/miedz-legnica/startseite/verein/8936',\n 'https://transfermarkt.co.uk/widzew-lodz/startseite/verein/88',\n 'https://transfermarkt.co.uk/korona-kielce/startseite/verein/6110']"
     },
     "execution_count": 333,
     "metadata": {},
     "output_type": "execute_result"
    }
   ],
   "source": [
    "new_scrape.clubs"
   ],
   "metadata": {
    "collapsed": false
   }
  },
  {
   "cell_type": "code",
   "execution_count": 334,
   "outputs": [],
   "source": [
    "new_scrape.get_player_stats()"
   ],
   "metadata": {
    "collapsed": false
   }
  },
  {
   "cell_type": "code",
   "execution_count": 335,
   "outputs": [],
   "source": [
    "new_scrape.create_dataset()\n",
    "new_scrape.clean_data()"
   ],
   "metadata": {
    "collapsed": false
   }
  },
  {
   "cell_type": "code",
   "execution_count": 336,
   "outputs": [
    {
     "data": {
      "text/plain": "                 name date of birth  height   foot        joined  \\\n0      Filip Bednarek  Sep 26, 1992     1.8  right   Jul 1, 2020   \n1       Dominik Holec  Jul 28, 1994     1.9  right   Jan 3, 2023   \n2         Artur Rudko   May 7, 1992     1.9  right   Jul 2, 2022   \n3       Antonio Milic  Mar 10, 1994     1.9   left  Jan 10, 2021   \n4     Filip Dagerstal   Feb 1, 1997     1.8  right  Jul 26, 2022   \n..                ...           ...     ...    ...           ...   \n543   Jacek Podgorski  Jun 23, 1996     1.8  right  Aug 11, 2020   \n544       Jacek Kielb  Jan 10, 1988     1.8  right   Feb 6, 2020   \n545  Evgeniy Shikavka  Oct 15, 1992     1.8  right  Jan 26, 2022   \n546    Kacper Kostorz  Aug 21, 1999     1.9   both  Feb 17, 2023   \n547      Hubert Szulc  Aug 27, 2004     1.8   left   Jul 1, 2022   \n\n    contract until        position  \n0     Jun 30, 2025      Goalkeeper  \n1     Jun 30, 2023      Goalkeeper  \n2     Jun 30, 2023      Goalkeeper  \n3     Jun 30, 2026     Centre-Back  \n4     Jun 30, 2023     Centre-Back  \n..             ...             ...  \n543   Jun 30, 2024    Right Winger  \n544   Jun 30, 2024    Right Winger  \n545   Jun 30, 2023  Centre-Forward  \n546   Jun 30, 2023  Centre-Forward  \n547   Jun 30, 2024  Centre-Forward  \n\n[548 rows x 7 columns]",
      "text/html": "<div>\n<style scoped>\n    .dataframe tbody tr th:only-of-type {\n        vertical-align: middle;\n    }\n\n    .dataframe tbody tr th {\n        vertical-align: top;\n    }\n\n    .dataframe thead th {\n        text-align: right;\n    }\n</style>\n<table border=\"1\" class=\"dataframe\">\n  <thead>\n    <tr style=\"text-align: right;\">\n      <th></th>\n      <th>name</th>\n      <th>date of birth</th>\n      <th>height</th>\n      <th>foot</th>\n      <th>joined</th>\n      <th>contract until</th>\n      <th>position</th>\n    </tr>\n  </thead>\n  <tbody>\n    <tr>\n      <th>0</th>\n      <td>Filip Bednarek</td>\n      <td>Sep 26, 1992</td>\n      <td>1.8</td>\n      <td>right</td>\n      <td>Jul 1, 2020</td>\n      <td>Jun 30, 2025</td>\n      <td>Goalkeeper</td>\n    </tr>\n    <tr>\n      <th>1</th>\n      <td>Dominik Holec</td>\n      <td>Jul 28, 1994</td>\n      <td>1.9</td>\n      <td>right</td>\n      <td>Jan 3, 2023</td>\n      <td>Jun 30, 2023</td>\n      <td>Goalkeeper</td>\n    </tr>\n    <tr>\n      <th>2</th>\n      <td>Artur Rudko</td>\n      <td>May 7, 1992</td>\n      <td>1.9</td>\n      <td>right</td>\n      <td>Jul 2, 2022</td>\n      <td>Jun 30, 2023</td>\n      <td>Goalkeeper</td>\n    </tr>\n    <tr>\n      <th>3</th>\n      <td>Antonio Milic</td>\n      <td>Mar 10, 1994</td>\n      <td>1.9</td>\n      <td>left</td>\n      <td>Jan 10, 2021</td>\n      <td>Jun 30, 2026</td>\n      <td>Centre-Back</td>\n    </tr>\n    <tr>\n      <th>4</th>\n      <td>Filip Dagerstal</td>\n      <td>Feb 1, 1997</td>\n      <td>1.8</td>\n      <td>right</td>\n      <td>Jul 26, 2022</td>\n      <td>Jun 30, 2023</td>\n      <td>Centre-Back</td>\n    </tr>\n    <tr>\n      <th>...</th>\n      <td>...</td>\n      <td>...</td>\n      <td>...</td>\n      <td>...</td>\n      <td>...</td>\n      <td>...</td>\n      <td>...</td>\n    </tr>\n    <tr>\n      <th>543</th>\n      <td>Jacek Podgorski</td>\n      <td>Jun 23, 1996</td>\n      <td>1.8</td>\n      <td>right</td>\n      <td>Aug 11, 2020</td>\n      <td>Jun 30, 2024</td>\n      <td>Right Winger</td>\n    </tr>\n    <tr>\n      <th>544</th>\n      <td>Jacek Kielb</td>\n      <td>Jan 10, 1988</td>\n      <td>1.8</td>\n      <td>right</td>\n      <td>Feb 6, 2020</td>\n      <td>Jun 30, 2024</td>\n      <td>Right Winger</td>\n    </tr>\n    <tr>\n      <th>545</th>\n      <td>Evgeniy Shikavka</td>\n      <td>Oct 15, 1992</td>\n      <td>1.8</td>\n      <td>right</td>\n      <td>Jan 26, 2022</td>\n      <td>Jun 30, 2023</td>\n      <td>Centre-Forward</td>\n    </tr>\n    <tr>\n      <th>546</th>\n      <td>Kacper Kostorz</td>\n      <td>Aug 21, 1999</td>\n      <td>1.9</td>\n      <td>both</td>\n      <td>Feb 17, 2023</td>\n      <td>Jun 30, 2023</td>\n      <td>Centre-Forward</td>\n    </tr>\n    <tr>\n      <th>547</th>\n      <td>Hubert Szulc</td>\n      <td>Aug 27, 2004</td>\n      <td>1.8</td>\n      <td>left</td>\n      <td>Jul 1, 2022</td>\n      <td>Jun 30, 2024</td>\n      <td>Centre-Forward</td>\n    </tr>\n  </tbody>\n</table>\n<p>548 rows × 7 columns</p>\n</div>"
     },
     "execution_count": 336,
     "metadata": {},
     "output_type": "execute_result"
    }
   ],
   "source": [
    "new_scrape.df"
   ],
   "metadata": {
    "collapsed": false
   }
  },
  {
   "cell_type": "code",
   "execution_count": 343,
   "outputs": [],
   "source": [
    "new_scrape.save_to_csv_file(\"alpha.csv\")\n"
   ],
   "metadata": {
    "collapsed": false
   }
  },
  {
   "cell_type": "code",
   "execution_count": 341,
   "outputs": [
    {
     "data": {
      "text/plain": "'Lubomir Satka'"
     },
     "execution_count": 341,
     "metadata": {},
     "output_type": "execute_result"
    }
   ],
   "source": [
    "new_scrape.df[\"name\"][5].replace(\"\\xa0\", \"\")"
   ],
   "metadata": {
    "collapsed": false
   }
  },
  {
   "cell_type": "code",
   "execution_count": 342,
   "outputs": [
    {
     "data": {
      "text/plain": "'Lubomir Satka\\xa0'"
     },
     "execution_count": 342,
     "metadata": {},
     "output_type": "execute_result"
    }
   ],
   "source": [
    "new_scrape.df[\"name\"][5]"
   ],
   "metadata": {
    "collapsed": false
   }
  },
  {
   "cell_type": "code",
   "execution_count": null,
   "outputs": [],
   "source": [
    "# def get_players_of_certain_club(url):\n",
    "#     payload = \"\"\n",
    "#     headers = {\n",
    "#         \"user-agent\": \"Mozilla/5.0 (Windows NT 10.0; Win64; x64) AppleWebKit/537.36 (KHTML, like Gecko) Chrome/109.0.0.0 Safari/537.36 OPR/95.0.0.0\"}\n",
    "#\n",
    "#     response = requests.request(\"GET\", url, data=payload, headers=headers)\n",
    "#     soup = BeautifulSoup(response.text)\n",
    "#\n",
    "#     club_players = []\n",
    "#     try:\n",
    "#         for player in soup.find_all(\"td\", class_=\"rechts hauptlink\"):\n",
    "#             if player.a is not None:\n",
    "#                 club_players.append(str(player.a.get(\"href\")).replace(\"marktwertverlauf\", \"profil\"))\n",
    "#     except:\n",
    "#         print(\"something's is lacking\")\n",
    "#     return club_players"
   ],
   "metadata": {
    "collapsed": false
   }
  },
  {
   "cell_type": "code",
   "execution_count": null,
   "outputs": [],
   "source": [
    "# for club_url in clubs:\n",
    "#     print(get_players_of_certain_club(club_url))\n",
    "#     with open(f\"./players.txt\", \"a+\") as f:\n",
    "#         f.write(\";\".join(get_players_of_certain_club(club_url)))"
   ],
   "metadata": {
    "collapsed": false
   }
  },
  {
   "cell_type": "code",
   "execution_count": null,
   "outputs": [],
   "source": [
    "# url = 'https://www.transfermarkt.co.uk/afonso-sousa/profil/spieler/375378'\n",
    "#\n",
    "# headers = {\n",
    "#     \"user-agent\": \"Mozilla/5.0 (Windows NT 10.0; Win64; x64) AppleWebKit/537.36 (KHTML, like Gecko) Chrome/109.0.0.0 Safari/537.36 OPR/95.0.0.0\"}\n",
    "#\n",
    "# response = requests.request(\"GET\", url, headers=headers)\n",
    "# soup = BeautifulSoup(response.text)"
   ],
   "metadata": {
    "collapsed": false
   }
  },
  {
   "cell_type": "code",
   "execution_count": null,
   "outputs": [],
   "source": [
    "# soup.find_all(\"span\", class_=\"info-table__content info-table__content--regular\")[1].text"
   ],
   "metadata": {
    "collapsed": false
   }
  },
  {
   "cell_type": "code",
   "execution_count": null,
   "outputs": [],
   "source": [
    "# soup.find_all(\"span\", class_=\"info-table__content info-table__content--bold\")[1].text"
   ],
   "metadata": {
    "collapsed": false
   }
  },
  {
   "cell_type": "code",
   "execution_count": null,
   "outputs": [],
   "source": [
    "# player_bio = dict()\n",
    "# for pd in range(1, soup.find_all(\"span\", class_=\"info-table__content info-table__content--bold\").__len__()):\n",
    "#     player_bio[f'{soup.find_all(\"span\", class_=\"info-table__content info-table__content--regular\")[pd].text}'] = \\\n",
    "#         soup.find_all(\"span\", class_=\"info-table__content info-table__content--bold\")[pd].text"
   ],
   "metadata": {
    "collapsed": false
   }
  },
  {
   "cell_type": "code",
   "execution_count": null,
   "outputs": [],
   "source": [
    "# player_bio"
   ],
   "metadata": {
    "collapsed": false
   }
  }
 ],
 "metadata": {
  "kernelspec": {
   "display_name": "Python 3",
   "language": "python",
   "name": "python3"
  },
  "language_info": {
   "codemirror_mode": {
    "name": "ipython",
    "version": 2
   },
   "file_extension": ".py",
   "mimetype": "text/x-python",
   "name": "python",
   "nbconvert_exporter": "python",
   "pygments_lexer": "ipython2",
   "version": "2.7.6"
  }
 },
 "nbformat": 4,
 "nbformat_minor": 0
}

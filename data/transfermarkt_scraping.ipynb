{
 "cells": [
  {
   "cell_type": "code",
   "execution_count": 207,
   "outputs": [],
   "source": [
    "import json\n",
    "\n",
    "import requests\n",
    "from bs4 import BeautifulSoup\n",
    "\n",
    "league_id = (\"PL1\", \"A1\", \"SLO1\", \"UKR1\")\n",
    "clubs = []\n",
    "\n"
   ],
   "metadata": {
    "collapsed": false
   }
  },
  {
   "cell_type": "code",
   "execution_count": 208,
   "outputs": [],
   "source": [
    "for league in league_id:\n",
    "    url = \"https://www.transfermarkt.co.uk/quickselect/teams/\" + league\n",
    "\n",
    "    payload = \"\"\n",
    "    headers = {\n",
    "        \"user-agent\": \"Mozilla/5.0 (Windows NT 10.0; Win64; x64) AppleWebKit/537.36 (KHTML, like Gecko) Chrome/109.0.0.0 Safari/537.36 OPR/95.0.0.0\"}\n",
    "\n",
    "    response = requests.request(\"GET\", url, data=payload, headers=headers)\n",
    "    for l in json.loads(response.text):\n",
    "        clubs.append(\"https://transfermarkt.co.uk\" + l[\"link\"])"
   ],
   "metadata": {
    "collapsed": false
   }
  },
  {
   "cell_type": "code",
   "execution_count": 210,
   "outputs": [],
   "source": [
    "def get_players_of_certain_club(url):\n",
    "    payload = \"\"\n",
    "    headers = {\n",
    "        \"user-agent\": \"Mozilla/5.0 (Windows NT 10.0; Win64; x64) AppleWebKit/537.36 (KHTML, like Gecko) Chrome/109.0.0.0 Safari/537.36 OPR/95.0.0.0\"}\n",
    "\n",
    "    response = requests.request(\"GET\", url, data=payload, headers=headers)\n",
    "    soup = BeautifulSoup(response.text)\n",
    "\n",
    "    club_players = []\n",
    "    try:\n",
    "        for player in soup.find_all(\"td\", class_=\"rechts hauptlink\"):\n",
    "            if player.a is not None:\n",
    "                club_players.append(str(player.a.get(\"href\")).replace(\"marktwertverlauf\", \"profil\"))\n",
    "    except:\n",
    "        print(\"something's is lacking\")\n",
    "    return club_players"
   ],
   "metadata": {
    "collapsed": false
   }
  },
  {
   "cell_type": "code",
   "execution_count": 211,
   "outputs": [
    {
     "name": "stdout",
     "output_type": "stream",
     "text": [
      "['/filip-bednarek/profil/spieler/155158', '/dominik-holec/profil/spieler/181611', '/artur-rudko/profil/spieler/129646', '/antonio-milic/profil/spieler/179896', '/filip-dagerstal/profil/spieler/270905', '/lubomir-satka/profil/spieler/168408', '/bartosz-salamon/profil/spieler/71019', '/pedro-rebocho/profil/spieler/197860', '/barry-douglas/profil/spieler/91854', '/joel-pereira/profil/spieler/225165', '/mateusz-zukowski/profil/spieler/470375', '/alan-czerwinski/profil/spieler/240756', '/jesper-karlstrom/profil/spieler/222855', '/nika-kvekveskiri/profil/spieler/150850', '/radoslaw-murawski/profil/spieler/220969', '/afonso-sousa/profil/spieler/375378', '/joao-amaral/profil/spieler/352898', '/filip-marchwinski/profil/spieler/555106', '/maksym-czekala/profil/spieler/821358', '/michal-skoras/profil/spieler/393565', '/kristoffer-velde/profil/spieler/499859', '/jakub-antczak/profil/spieler/631442', '/georgiy-tsitaishvili/profil/spieler/419067', '/adriel-ba-loua/profil/spieler/364314', '/mikael-ishak/profil/spieler/153637', '/filip-szymczak/profil/spieler/554972', '/artur-sobiech/profil/spieler/75640', '/norbert-paclawski/profil/spieler/661404']\n",
      "['/vladan-kovacevic/profil/spieler/429070', '/kacper-trelowski/profil/spieler/720120', '/jakub-rajczykowski/profil/spieler/925636', '/stratos-svarnas/profil/spieler/318257', '/zoran-arsenic/profil/spieler/280312', '/adrian-gryszkiewicz/profil/spieler/388944', '/bogdan-racovitan/profil/spieler/804134', '/tomas-petrasek/profil/spieler/333261', '/milan-rundic/profil/spieler/182185', '/giannis-papanikolaou/profil/spieler/448058', '/ben-lederman/profil/spieler/366929', '/gustav-berggren/profil/spieler/258007', '/szymon-czyz/profil/spieler/407094', '/fran-tudor/profil/spieler/343158', '/jean-carlos-silva/profil/spieler/282434', '/wiktor-dlugosz/profil/spieler/453156', '/patryk-kun/profil/spieler/252608', '/ivi-lopez/profil/spieler/282371', '/bartosz-nowak/profil/spieler/261085', '/vladyslav-kochergin/profil/spieler/248932', '/mateusz-wdowiak/profil/spieler/295495', '/marcin-cebula/profil/spieler/239215', '/vladislavs-gutkovskis/profil/spieler/192710', '/fabian-piasecki/profil/spieler/255401', '/sebastian-musiolik/profil/spieler/267152']\n",
      "['/dante-stipica/profil/spieler/86635', '/bartosz-klebaniuk/profil/spieler/621424', '/maciej-kowal/profil/spieler/797820', '/danijel-loncar/profil/spieler/366287', '/konstantinos-triantafyllopoulos/profil/spieler/185691', '/mariusz-malec/profil/spieler/331871', '/benedikt-zech/profil/spieler/83616', '/leonardo-koutris/profil/spieler/187530', '/leo-borges/profil/spieler/681692', '/linus-wahlqvist/profil/spieler/249125', '/pawel-stolarski/profil/spieler/235862', '/dawid-rezaeian/profil/spieler/554971', '/damian-dabrowski/profil/spieler/143118', '/rafal-kurzawa/profil/spieler/191895', '/stanislaw-wawrzynowicz/profil/spieler/409048', '/mateusz-legowski/profil/spieler/570466', '/kacper-smolinski/profil/spieler/597231', '/yadegar-rostami/profil/spieler/972610', '/sebastian-kowalczyk/profil/spieler/289168', '/vahan-bichakhchyan/profil/spieler/399348', '/kacper-lukasiak/profil/spieler/694428', '/kamil-grosicki/profil/spieler/37920', '/marcel-wedrychowski/profil/spieler/554975', '/michal-kucharczyk/profil/spieler/116905', '/alexander-gorgon/profil/spieler/45425', '/pontus-almqvist/profil/spieler/300532', '/luka-zahovic/profil/spieler/169362']\n",
      "['/dusan-kuciak/profil/spieler/31886', '/michal-buchalik/profil/spieler/77002', '/michal-nalepa/profil/spieler/175947', '/henrik-castegren/profil/spieler/253159', '/joel-abu-hanna/profil/spieler/267330', '/mario-maloca/profil/spieler/48873', '/rafal-pietrzak/profil/spieler/74722', '/louis-poznanski/profil/spieler/393922', '/jakub-bartkowski/profil/spieler/130444', '/david-stec/profil/spieler/181715', '/filip-koperski/profil/spieler/825583', '/bartosz-brzek/profil/spieler/618404', '/jakub-kaluzinski/profil/spieler/699418', '/jaroslaw-kubicki/profil/spieler/327756', '/kristers-tobers/profil/spieler/448883', '/joeri-de-kamps/profil/spieler/57303', '/maciej-gajos/profil/spieler/236891', '/marco-terrazzino/profil/spieler/67869', '/conrado/profil/spieler/514674', '/dominik-pila/profil/spieler/687671', '/ilkay-durmus/profil/spieler/119549', '/bassekou-diabate/profil/spieler/877538', '/lukasz-zwolinski/profil/spieler/220740', '/kacper-sezonienko/profil/spieler/699585', '/kevin-friesenbichler/profil/spieler/106848', '/flavio-paixao/profil/spieler/123455']\n",
      "['/frantisek-plach/profil/spieler/404345', '/karol-szymanski/profil/spieler/266269', '/bartlomiej-jelonek/profil/spieler/1033044', '/ariel-mosor/profil/spieler/554288', '/tomas-huk/profil/spieler/181612', '/jakub-czerwinski/profil/spieler/143282', '/constantin-reiner/profil/spieler/286643', '/miguel-munoz/profil/spieler/510963', '/alexandros-katranis/profil/spieler/324341', '/jakub-holubek/profil/spieler/192731', '/arkadiusz-pyrka/profil/spieler/599733', '/tomasz-mokwa/profil/spieler/266250', '/piotr-liszewski/profil/spieler/1069370', '/patryk-dziczek/profil/spieler/289165', '/michal-kaput/profil/spieler/385759', '/tom-hateley/profil/spieler/78648', '/bartosz-luczak/profil/spieler/1006682', '/jakub-niedbala/profil/spieler/581899', '/grzegorz-tomasiewicz/profil/spieler/240458', '/michal-chrapek/profil/spieler/117683', '/jorge-felix/profil/spieler/251930', '/tihomir-kostadinov/profil/spieler/339510', '/oskar-lesniak/profil/spieler/1032923', '/michael-ameyaw/profil/spieler/528414', '/damian-kadzior/profil/spieler/199299', '/kamil-wilczek/profil/spieler/78590', '/alex-sobczyk/profil/spieler/287191', '/gabriel-kirejczyk/profil/spieler/910764']\n",
      "['/bartlomiej-gradecki/profil/spieler/520503', '/krzysztof-kaminski/profil/spieler/172874', '/oskar-klon/profil/spieler/945954', '/kamil-zapytowski/profil/spieler/1037093', '/oskar-lodzinski/profil/spieler/1032290', '/steve-kapuadi/profil/spieler/679709', '/martin-sulek/profil/spieler/365469', '/jakub-szymanski/profil/spieler/798319', '/adam-chrzanowski/profil/spieler/320898', '/jakub-rzezniczak/profil/spieler/24576', '/igor-drapinski/profil/spieler/704970', '/piotr-tomasik/profil/spieler/84918', '/aleksander-pawlak/profil/spieler/725654', '/filip-lesniak/profil/spieler/186383', '/dominik-furman/profil/spieler/74687', '/martin-hasek/profil/spieler/299961', '/miroslav-gono/profil/spieler/573573', '/pawel-chrupalla/profil/spieler/739910', '/rafal-wolski/profil/spieler/176514', '/mateusz-szwoch/profil/spieler/199302', '/damian-warchol/profil/spieler/335294', '/radoslaw-cielemecki/profil/spieler/554280', '/dawid-krzyzanski/profil/spieler/884505', '/tomasz-walczak/profil/spieler/618410', '/kristian-vallo/profil/spieler/389621', '/dawid-kocyla/profil/spieler/605780', '/milan-kvocera/profil/spieler/464800', '/marko-kolar/profil/spieler/205924', '/bartosz-spiaczka/profil/spieler/190413', '/mateusz-lewandowski/profil/spieler/438351', '/lukasz-sekulski/profil/spieler/80769', '/adrian-szczutowski/profil/spieler/536293']\n",
      "['/gabriel-kobylak/profil/spieler/559998', '/pedro-justiniano/profil/spieler/357988', '/mike-cestor/profil/spieler/136744', '/raphael-rossi/profil/spieler/290271', '/mateusz-cichocki/profil/spieler/236235', '/dawid-abramowicz/profil/spieler/168427', '/damian-jakubik/profil/spieler/196387', '/filipe-nascimento/profil/spieler/197999', '/thabo-cele/profil/spieler/471286', '/christos-donis/profil/spieler/212432', '/francisco-ramos/profil/spieler/198007', '/luizao/profil/spieler/518723', '/daniel-lukasik/profil/spieler/67655', '/jakub-nowakowski/profil/spieler/622369', '/kacper-pankowski/profil/spieler/991584', '/jozef-kolasa/profil/spieler/1053155', '/jakub-snopczynski/profil/spieler/960963', '/milosz-zurawski/profil/spieler/1017307', '/roberto-alves/profil/spieler/249983', '/frank-castaneda/profil/spieler/562483', '/luis-machado/profil/spieler/195308', '/berto-cayarga/profil/spieler/510372', '/lisandro-semedo/profil/spieler/225431', '/leandro/profil/spieler/264870', '/daniel-pik/profil/spieler/528410', '/leonardo-rocha/profil/spieler/479675', '/krystian-okoniewski/profil/spieler/618377', '/jean-franco-sarmiento/profil/spieler/653449']\n",
      "['/daniel-bielica/profil/spieler/463233', '/pavel-pavlyuchenko/profil/spieler/344548', '/pawel-sokol/profil/spieler/433602', '/aleksander-paluszek/profil/spieler/605746', '/richard-jensen/profil/spieler/214078', '/kryspin-szczesniak/profil/spieler/549312', '/emil-bergstrom/profil/spieler/142208', '/rafal-janicki/profil/spieler/153638', '/boris-sekulic/profil/spieler/217709', '/jean-jules/profil/spieler/607377', '/blaz-vrhovec/profil/spieler/165579', '/robin-kamber/profil/spieler/192640', '/jonatan-kotzke/profil/spieler/90330', '/adrian-dziedzic/profil/spieler/699646', '/damian-rasak/profil/spieler/255910', '/daisuke-yokota/profil/spieler/602781', '/norbert-wojtuszek/profil/spieler/607435', '/pawel-olkowski/profil/spieler/117469', '/erik-janza/profil/spieler/174522', '/robert-dadok/profil/spieler/351796', '/kanji-okunuki/profil/spieler/515654', '/dani-pacheco/profil/spieler/28285', '/lukas-podolski/profil/spieler/15185', '/arsen-grosu/profil/spieler/863099', '/szymon-wlodarczyk/profil/spieler/554282', '/anthony-van-den-hurk/profil/spieler/226100', '/piotr-krawczyk/profil/spieler/294191', '/amadej-marosa/profil/spieler/262699', '/mateusz-cholewiak/profil/spieler/255519', '/krzysztof-kolanko/profil/spieler/991460']\n",
      "['/karol-niemczycki/profil/spieler/521634', '/lukas-hrosso/profil/spieler/74941', '/sebastian-madejski/profil/spieler/325448', '/filip-kramarz/profil/spieler/828886', '/virgil-ghita/profil/spieler/340977', '/jakub-jugas/profil/spieler/146712', '/arttu-hoskonen/profil/spieler/390646', '/david-jablonsky/profil/spieler/113575', '/krystian-bracik/profil/spieler/599934', '/oskar-wojcik/profil/spieler/821350', '/mathias-hebo-rasmussen/profil/spieler/311438', '/jani-atanasov/profil/spieler/392576', '/takuto-oshima/profil/spieler/775886', '/karol-knap/profil/spieler/800664', '/kacper-jodlowski/profil/spieler/606731', '/robert-ozog/profil/spieler/345444', '/otar-kakabadze/profil/spieler/214250', '/mateusz-bochnak/profil/spieler/387258', '/cornel-rapa/profil/spieler/96290', '/michal-stachera/profil/spieler/579447', '/kamil-pestka/profil/spieler/384482', '/pawel-jaroszynski/profil/spieler/287600', '/michal-siplak/profil/spieler/239957', '/patryk-zaucha/profil/spieler/393568', '/michal-rakoczy/profil/spieler/529548', '/jakub-myszor/profil/spieler/697554', '/patryk-makuch/profil/spieler/453639', '/yevgen-konoplyanka/profil/spieler/58949', '/przemyslaw-kapek/profil/spieler/697556', '/marcin-budzinski/profil/spieler/82173', '/benjamin-kallman/profil/spieler/322990', '/sebastian-strozik/profil/spieler/384438', '/kamil-ogorzaly/profil/spieler/655588']\n",
      "['/kacper-tobiasz/profil/spieler/658111', '/cezary-miszta/profil/spieler/487167', '/dominik-hladun/profil/spieler/278676', '/jakub-trojanowski/profil/spieler/592532', '/maik-nawrocki/profil/spieler/407745', '/rafal-augustyniak/profil/spieler/264796', '/lindsay-rose/profil/spieler/135490', '/yuri-ribeiro/profil/spieler/258032', '/artur-jedrzejczyk/profil/spieler/42401', '/bartosz-slisz/profil/spieler/382429', '/igor-kharatin/profil/spieler/213976', '/patryk-sokolowski/profil/spieler/284871', '/jurgen-celhaka/profil/spieler/622727', '/jakub-kisiel/profil/spieler/672232', '/pawel-wszolek/profil/spieler/164759', '/mattias-johansson/profil/spieler/132014', '/filip-mladenovic/profil/spieler/168063', '/bartosz-kapustka/profil/spieler/246579', '/josue/profil/spieler/72772', '/makana-baku/profil/spieler/336974', '/robert-pich/profil/spieler/109742', '/igor-strzalek/profil/spieler/847436', '/ernest-muci/profil/spieler/583917', '/carlitos/profil/spieler/228885', '/maciej-rosolek/profil/spieler/401609', '/tomas-pekhart/profil/spieler/38746', '/blaz-kramer/profil/spieler/322288']\n",
      "['/adrian-lis/profil/spieler/131321', '/jedrzej-grobelny/profil/spieler/531538', '/patryk-prange/profil/spieler/566400', '/dimitrios-stavropoulos/profil/spieler/402970', '/robert-ivanov/profil/spieler/373876', '/dawid-szymonowicz/profil/spieler/242846', '/kamil-koscielny/profil/spieler/281332', '/wiktor-plesnierowicz/profil/spieler/407089', '/bartosz-kieliba/profil/spieler/266234', '/maciej-zurawski/profil/spieler/454388', '/niilo-maenpaa/profil/spieler/322997', '/mateusz-kupczak/profil/spieler/237523', '/michal-kopczynski/profil/spieler/235977', '/nikolas-korzeniecki/profil/spieler/658155', '/maksymilian-pogonowski/profil/spieler/1012031', '/jakub-paszkowski/profil/spieler/1038750', '/jan-grzesik/profil/spieler/264278', '/konrad-matuszewski/profil/spieler/401599', '/jakub-kielb/profil/spieler/181119', '/miguel-luis/profil/spieler/357161', '/kajetan-szmyt/profil/spieler/658730', '/milosz-szczepanski/profil/spieler/321240', '/stefan-savic/profil/spieler/120192', '/michal-jakobowski/profil/spieler/224176', '/enis-destan/profil/spieler/699980', '/adam-zrelak/profil/spieler/261155', '/szymon-sarbinowski/profil/spieler/925474']\n",
      "['/zlatan-alomerovic/profil/spieler/47594', '/bartlomiej-zynel/profil/spieler/289172', '/slawomir-abramowicz/profil/spieler/805834', '/milosz-piekutowski/profil/spieler/965043', '/dusan-stojinovic/profil/spieler/469688', '/israel-puerto/profil/spieler/126748', '/milosz-matysik/profil/spieler/751104', '/mateusz-skrzypczak/profil/spieler/345454', '/michal-pazdan/profil/spieler/54512', '/michal-ozga/profil/spieler/452666', '/patryk-czerech/profil/spieler/628059', '/bojan-nastic/profil/spieler/168943', '/jakub-lewicki/profil/spieler/929423', '/bartlomiej-wdowik/profil/spieler/589013', '/kacper-tabis/profil/spieler/358874', '/pawel-olszewski/profil/spieler/342659', '/michal-sacek/profil/spieler/430054', '/nene/profil/spieler/301824', '/taras-romanczuk/profil/spieler/280939', '/oliwier-wojciechowski/profil/spieler/618392', '/aurelien-nguiamba/profil/spieler/344595', '/bartosz-bernatowicz/profil/spieler/911499', '/jesus-imaz/profil/spieler/176423', '/juan-camara/profil/spieler/162039', '/wojciech-laski/profil/spieler/694787', '/camilo-mena/profil/spieler/653596', '/maciej-bortniczuk/profil/spieler/587156', '/tomas-prikryl/profil/spieler/152693', '/tomasz-kupisz/profil/spieler/45185', '/marc-gual/profil/spieler/376486', '/bartosz-bida/profil/spieler/475802', '/mikolaj-wasilewski/profil/spieler/608923', '/michal-samborski/profil/spieler/555069']\n",
      "['/kacper-bieszczad/profil/spieler/554944', '/sokratis-dioudis/profil/spieler/187798', '/jasmin-buric/profil/spieler/28308', '/alexander-steffen/profil/spieler/726715', '/szymon-weirauch/profil/spieler/727119', '/michal-matys/profil/spieler/924895', '/aleks-lawniczak/profil/spieler/425739', '/jaroslaw-jach/profil/spieler/327755', '/bartosz-kopacz/profil/spieler/153306', '/damian-oko/profil/spieler/385198', '/kamil-sobczak/profil/spieler/697887', '/kacper-lepczynski/profil/spieler/605804', '/luis-mata/profil/spieler/258002', '/mateusz-bartolewski/profil/spieler/425763', '/mateusz-grzybek/profil/spieler/244782', '/bartlomiej-kludka/profil/spieler/697437', '/arkadiusz-wozniak/profil/spieler/144721', '/jakub-kolan/profil/spieler/631447', '/lukasz-lakomy/profil/spieler/401598', '/tomasz-makowski/profil/spieler/320961', '/marko-poletanovic/profil/spieler/168957', '/filip-kocaba/profil/spieler/820540', '/jakub-zubrowski/profil/spieler/283012', '/dawid-pakulski/profil/spieler/385199', '/kacper-terlecki/profil/spieler/717916', '/filip-starzynski/profil/spieler/199301', '/tomasz-pienko/profil/spieler/555062', '/kacper-masiak/profil/spieler/717915', '/damjan-bohar/profil/spieler/174504', '/patryk-kusztal/profil/spieler/554315', '/sasa-zivec/profil/spieler/128033', '/kacper-chodyna/profil/spieler/320733', '/tornike-gaprindashvili/profil/spieler/319723', '/jakub-swierczok/profil/spieler/193554', '/dawid-kurminowski/profil/spieler/346549', '/rafal-adamski/profil/spieler/549982', '/martin-dolezal/profil/spieler/82026', '/cheikhou-dieng/profil/spieler/225536', '/oliwier-slawinski/profil/spieler/618436']\n",
      "['/bartosz-mrozek/profil/spieler/345452', '/mateusz-kochalski/profil/spieler/404055', '/mateusz-dudek/profil/spieler/687439', '/kamil-kruk/profil/spieler/372696', '/marcin-flis/profil/spieler/187973', '/mateusz-matras/profil/spieler/153992', '/dominykas-barauskas/profil/spieler/300143', '/leandro/profil/spieler/76071', '/arkadiusz-kasperkiewicz/profil/spieler/315511', '/alex-vallejo/profil/spieler/138934', '/piotr-wlazlo/profil/spieler/134491', '/pawel-zyra/profil/spieler/353827', '/konrad-guca/profil/spieler/938756', '/michael-wyparlo/profil/spieler/858521', '/adrian-sobon/profil/spieler/708448', '/maciej-wolski/profil/spieler/384664', '/fabian-hiszpanski/profil/spieler/194139', '/krystian-getinger/profil/spieler/69516', '/fryderyk-gerbowski/profil/spieler/554277', '/adam-ratajczyk/profil/spieler/628624', '/maciej-domanski/profil/spieler/281376', '/koki-hinokio/profil/spieler/688708', '/mateusz-mak/profil/spieler/143975', '/bartlomiej-ciepiela/profil/spieler/576569', '/rauno-sappinen/profil/spieler/199000', '/mikolaj-lebedynski/profil/spieler/118428']\n",
      "['/rafal-leszczynski/profil/spieler/120970', '/michal-szromnik/profil/spieler/181135', '/maksymilian-boruc/profil/spieler/527248', '/jozef-burta/profil/spieler/393891', '/oskar-mielcarz/profil/spieler/866431', '/konrad-poprawa/profil/spieler/385052', '/daniel-leo-gretarsson/profil/spieler/200747', '/diogo-verdasca/profil/spieler/225162', '/yegor-matsenko/profil/spieler/699118', '/mateusz-stawny/profil/spieler/709502', '/olivier-wypart/profil/spieler/605745', '/matias-nahuel/profil/spieler/263843', '/michal-rzuchowski/profil/spieler/237356', '/adrian-bukowski/profil/spieler/577597', '/szymon-michalski/profil/spieler/828895', '/filip-gryglak/profil/spieler/795548', '/patrick-olsen/profil/spieler/135217', '/petr-schwarz/profil/spieler/208591', '/lukasz-bejger/profil/spieler/554969', '/patryk-janasik/profil/spieler/397854', '/martin-konczkowski/profil/spieler/258799', '/victor-garcia/profil/spieler/281588', '/adrian-lyszczarz/profil/spieler/384791', '/karol-borys/profil/spieler/890272', '/piotr-samiec-talar/profil/spieler/598448', '/marcel-zylla/profil/spieler/336330', '/przemyslaw-bargiel/profil/spieler/345460', '/john-yeboah/profil/spieler/439914', '/dennis-jastrzembski/profil/spieler/358870', '/erik-exposito/profil/spieler/483461', '/patryk-szwedzik/profil/spieler/693310', '/caye-quintana/profil/spieler/238471', '/jakub-lutostanski/profil/spieler/819692']\n",
      "['/stefanos-kapino/profil/spieler/68410', '/mateusz-abramowicz/profil/spieler/217529', '/pawel-lenarcik/profil/spieler/279144', '/alan-madalinski/profil/spieler/867154', '/levent-gulen/profil/spieler/147045', '/jurich-carolina/profil/spieler/338031', '/nemanja-mijuskovic/profil/spieler/144695', '/andrzej-niewulis/profil/spieler/101070', '/michal-pojasek/profil/spieler/450888', '/mateusz-letkiewicz/profil/spieler/904124', '/santiago-naveda/profil/spieler/700503', '/chuca/profil/spieler/399779', '/maxime-dominguez/profil/spieler/207561', '/kamil-drygas/profil/spieler/146067', '/szymon-matuszek/profil/spieler/46590', '/damian-tront/profil/spieler/379232', '/korneliusz-karolczak/profil/spieler/800020', '/giannis-masouras/profil/spieler/295780', '/michael-kostka/profil/spieler/554285', '/dimitar-velkovski/profil/spieler/323403', '/hubert-matynia/profil/spieler/330686', '/olaf-kobacki/profil/spieler/407734', '/luciano-narsingh/profil/spieler/72462', '/koldo-obieta/profil/spieler/445584', '/dawid-drachal/profil/spieler/895298', '/blazej-szczepanek/profil/spieler/529648', '/igor-lewandowski/profil/spieler/573348', '/angelo-henriquez/profil/spieler/189740', '/hubert-kwolek/profil/spieler/842939']\n",
      "['/henrich-ravas/profil/spieler/325896', '/jakub-wrabel/profil/spieler/273533', '/vasyl-lytvynenko/profil/spieler/379972', '/patryk-stepinski/profil/spieler/210364', '/mateusz-zyro/profil/spieler/297234', '/martin-kreuzriegler/profil/spieler/120197', '/serafin-szota/profil/spieler/384524', '/bozhidar-chorbadzhiyski/profil/spieler/271399', '/adam-debinski/profil/spieler/1058821', '/dominik-kun/profil/spieler/201193', '/marek-hanousek/profil/spieler/76655', '/patryk-lipski/profil/spieler/255392', '/juljan-shehu/profil/spieler/528021', '/ignacy-dawid/profil/spieler/700951', '/filip-zawadzki/profil/spieler/849472', '/mato-milos/profil/spieler/178078', '/pawel-zielinski/profil/spieler/309384', '/andrejs-ciganiks/profil/spieler/202659', '/fabio-nunes/profil/spieler/138350', '/bartlomiej-pawlowski/profil/spieler/153667', '/juliusz-letniowski/profil/spieler/384659', '/ernest-terpilowski/profil/spieler/573345', '/kristoffer-hansen/profil/spieler/180215', '/jakub-sypek/profil/spieler/504601', '/jordi-sanchez/profil/spieler/291693', '/lukasz-zjawinski/profil/spieler/401608', '/mateusz-kempski/profil/spieler/913676']\n",
      "['/marcel-zapytowski/profil/spieler/598274', '/konrad-forenc/profil/spieler/121154', '/adrian-sandach/profil/spieler/750934', '/rafal-mamla/profil/spieler/727318', '/milosz-trojak/profil/spieler/292130', '/kyrylo-petrov/profil/spieler/58427', '/bartosz-kwiecien/profil/spieler/255721', '/dominick-zator/profil/spieler/496606', '/piotr-malarczyk/profil/spieler/120892', '/radoslaw-sewerys/profil/spieler/555052', '/marius-briceag/profil/spieler/209063', '/dawid-lisowski/profil/spieler/553932', '/marcus-godinho/profil/spieler/381069', '/adrian-danek/profil/spieler/237317', '/marcin-szpakowski/profil/spieler/605748', '/adam-deja/profil/spieler/257244', '/ronaldo-deaconu/profil/spieler/271281', '/nono/profil/spieler/152776', '/dalibor-takac/profil/spieler/403915', '/kacper-bojanczyk/profil/spieler/985983', '/jakub-lukowski/profil/spieler/255905', '/dawid-blanik/profil/spieler/370555', '/jacek-podgorski/profil/spieler/267141', '/jacek-kielb/profil/spieler/37110', '/evgeniy-shikavka/profil/spieler/228087', '/kacper-kostorz/profil/spieler/510459', '/hubert-szulc/profil/spieler/837346']\n",
      "['/philipp-kohn/profil/spieler/251322', '/adam-stejskal/profil/spieler/552035', '/jonas-krumrey/profil/spieler/531637', '/alexander-walke/profil/spieler/1271', '/strahinja-pavlovic/profil/spieler/574671', '/oumar-solet/profil/spieler/463665', '/jerome-onguene/profil/spieler/272638', '/bernardo/profil/spieler/364258', '/bryan-okoh/profil/spieler/539795', '/samson-baidoo/profil/spieler/655217', '/daouda-guindo/profil/spieler/671590', '/andreas-ulmer/profil/spieler/31196', '/amar-dedic/profil/spieler/519184', '/ignace-van-der-brempt/profil/spieler/490423', '/lucas-gourna-douath/profil/spieler/620313', '/samson-tijani/profil/spieler/666613', '/nicolas-seiwald/profil/spieler/404950', '/maurits-kjaergaard/profil/spieler/610405', '/nicolas-capaldo/profil/spieler/649672', '/lawrence-agyekum/profil/spieler/733410', '/justin-omoregie/profil/spieler/581880', '/luka-sucic/profil/spieler/502722', '/oscar-gloukh/profil/spieler/930571', '/dijon-kameri/profil/spieler/629005', '/amankwah-forson/profil/spieler/650944', '/noah-okafor/profil/spieler/346890', '/benjamin-sesko/profil/spieler/627442', '/fernando/profil/spieler/550495', '/junior-adamu/profil/spieler/452477', '/sekou-koita/profil/spieler/402010', '/karim-konate/profil/spieler/847278']\n",
      "['/arthur-okonkwo/profil/spieler/503769', '/jorg-siebenhandl/profil/spieler/59009', '/luka-maric/profil/spieler/432859', '/tobias-schutzenauer/profil/spieler/243237', '/gregory-wuthrich/profil/spieler/203125', '/david-affengruber/profil/spieler/452483', '/alexandar-borkovic/profil/spieler/321050', '/niklas-geyrhofer/profil/spieler/394008', '/paul-komposch/profil/spieler/452461', '/amadou-dante/profil/spieler/649087', '/david-schnegg/profil/spieler/378260', '/jusuf-gazibegovic/profil/spieler/393745', '/sandro-ingolitsch/profil/spieler/286627', '/samuel-stuckler/profil/spieler/404935', '/jon-gorenc-stankovic/profil/spieler/245034', '/ivan-ljubic/profil/spieler/250028', '/stefan-hierlander/profil/spieler/59053', '/sandro-schendl/profil/spieler/527596', '/alexander-prass/profil/spieler/434116', '/otar-kiteishvili/profil/spieler/352596', '/tomi-horvat/profil/spieler/340415', '/moritz-wels/profil/spieler/655247', '/bryan-teixeira/profil/spieler/657635', '/mohammed-fuseini/profil/spieler/979410', '/william-boving/profil/spieler/610400', '/albian-ajeti/profil/spieler/195906', '/manprit-sarkaria/profil/spieler/288690', '/emanuel-emegha/profil/spieler/559328', '/jakob-jantscher/profil/spieler/52269']\n",
      "['/christian-fruchtl/profil/spieler/336307', '/mirko-kos/profil/spieler/307511', '/lukas-wedl/profil/spieler/201731', '/lukas-muhl/profil/spieler/279079', '/lucas-galvao/profil/spieler/104540', '/johannes-handl/profil/spieler/293084', '/matteo-meisl/profil/spieler/346855', '/doron-leidner/profil/spieler/668596', '/ziad-el-sheiwi/profil/spieler/689271', '/matan-baltaxa/profil/spieler/355395', '/reinhold-ranftl/profil/spieler/83119', '/marvin-martins/profil/spieler/313504', '/georg-teigl/profil/spieler/81698', '/james-holland/profil/spieler/43158', '/florian-wustinger/profil/spieler/602792', '/matthias-braunoder/profil/spieler/488052', '/armand-smrcka/profil/spieler/488056', '/dario-kreiker/profil/spieler/602391', '/dominik-fitz/profil/spieler/354022', '/aleksandar-jukic/profil/spieler/393699', '/manfred-fischer/profil/spieler/269093', '/can-keles/profil/spieler/451642', '/manuel-polster/profil/spieler/488072', '/andreas-gruber/profil/spieler/194477', '/ibrahima-drame/profil/spieler/649028', '/nikola-dovedan/profil/spieler/120189', '/muharem-huskovic/profil/spieler/548235', '/marko-raguz/profil/spieler/307664', '/haris-tabakovic/profil/spieler/203123', '/romeo-vucic/profil/spieler/566630']\n",
      "['/hendrik-bonmann/profil/spieler/104220', '/lukas-gutlbauer/profil/spieler/371430', '/david-skubl/profil/spieler/443936', '/dominik-baumgartner/profil/spieler/206906', '/tim-oermann/profil/spieler/696164', '/raphael-schifferl/profil/spieler/401940', '/david-gugganig/profil/spieler/223960', '/simon-piesinger/profil/spieler/89541', '/kevin-bukusu/profil/spieler/453796', '/matteo-anzolin/profil/spieler/395127', '/jonathan-scherzer/profil/spieler/196782', '/adis-jasic/profil/spieler/531214', '/michael-novak/profil/spieler/77487', '/fabian-tauchhammer/profil/spieler/428462', '/ervin-omic/profil/spieler/531599', '/mario-leitgeb/profil/spieler/52821', '/matthaus-taferner/profil/spieler/434104', '/nikolas-veratschnig/profil/spieler/601143', '/konstantin-kerschbaumer/profil/spieler/81694', '/pascal-muller/profil/spieler/601135', '/thierno-ballo/profil/spieler/406608', '/augustine-boakye/profil/spieler/579263', '/tai-baribo/profil/spieler/492252', '/maurice-malone/profil/spieler/405568', '/thorsten-rocher/profil/spieler/174856']\n",
      "['/niklas-hedl/profil/spieler/404881', '/paul-gartler/profil/spieler/223957', '/bernhard-unger/profil/spieler/341761', '/leopold-querfeld/profil/spieler/597432', '/kevin-wimmer/profil/spieler/122675', '/maximilian-hofmann/profil/spieler/131231', '/michael-sollbauer/profil/spieler/74179', '/marko-dijakovic/profil/spieler/502981', '/christopher-dibon/profil/spieler/54607', '/jonas-auer/profil/spieler/393766', '/martin-moormann/profil/spieler/434098', '/denso-kasius/profil/spieler/577394', '/martin-koscelnik/profil/spieler/382204', '/thorsten-schick/profil/spieler/55574', '/pascal-fallmann/profil/spieler/535650', '/aleksa-pejic/profil/spieler/542995', '/lion-schuster/profil/spieler/391560', '/nicolas-bajlicz/profil/spieler/629040', '/patrick-greil/profil/spieler/197043', '/roman-kerschbaum/profil/spieler/120202', '/dejan-petrovic/profil/spieler/320859', '/moritz-oswald/profil/spieler/526032', '/christoph-knasmullner/profil/spieler/59068', '/marco-grull/profil/spieler/391766', '/dragoljub-savic/profil/spieler/574656', '/nicolas-kuhn/profil/spieler/336012', '/ante-bajic/profil/spieler/282918', '/ferdy-druijf/profil/spieler/360519', '/bernhard-zimmermann/profil/spieler/488073', '/guido-burgstaller/profil/spieler/49239', '/oliver-strunz/profil/spieler/391561']\n",
      "['/phillip-menzel/profil/spieler/284346', '/marco-knaller/profil/spieler/32216', '/marcel-kostenbauer/profil/spieler/449453', '/david-puntigam/profil/spieler/806024', '/nicolas-wimmer/profil/spieler/194736', '/thorsten-mahrer/profil/spieler/76369', '/maximiliano-moreira/profil/spieler/189439', '/till-schumacher/profil/spieler/236467', '/solomon-bonnah/profil/spieler/508637', '/christopher-wernitznig/profil/spieler/77117', '/michael-blauensteiner/profil/spieler/195854', '/simon-straudi/profil/spieler/379879', '/vesel-demaku/profil/spieler/346846', '/kosmas-gezos/profil/spieler/191850', '/andy-irving/profil/spieler/430310', '/christopher-cvetko/profil/spieler/223954', '/rico-benatelli/profil/spieler/86156', '/emilian-metu/profil/spieler/580622', '/alexander-fuchs/profil/spieler/278323', '/moritz-berg/profil/spieler/676888', '/daniel-francis/profil/spieler/718315', '/fabian-miesenbock/profil/spieler/151525', '/florian-rieder/profil/spieler/317847', '/florian-jaritz/profil/spieler/286747', '/sinan-karweina/profil/spieler/337816', '/markus-pink/profil/spieler/78006', '/jonas-arweiler/profil/spieler/246044', '/sebastian-soto/profil/spieler/605498', '/nicolas-binder/profil/spieler/500584', '/matthew-durrans/profil/spieler/324757']\n",
      "['/ferdinand-oswald/profil/spieler/58360', '/benjamin-ozegovic/profil/spieler/319825', '/paul-schermer/profil/spieler/659375', '/simon-beccari/profil/spieler/364558', '/raffael-behounek/profil/spieler/321095', '/felix-bacher/profil/spieler/394134', '/dominik-stumberger/profil/spieler/307867', '/osarenren-okungbowa/profil/spieler/165407', '/kofi-schulz/profil/spieler/192539', '/david-jaunegg/profil/spieler/602804', '/florian-tipotsch/profil/spieler/602778', '/valentino-muller/profil/spieler/307817', '/bror-blume/profil/spieler/189044', '/johannes-naschberger/profil/spieler/321874', '/kilian-bauernfeind/profil/spieler/524475', '/cem-ustundag/profil/spieler/445623', '/zan-rogelj/profil/spieler/371861', '/lukas-sulzbacher/profil/spieler/375355', '/alexander-ranacher/profil/spieler/307843', '/stefan-skrbo/profil/spieler/589746', '/sandi-ogrinec/profil/spieler/320858', '/julius-ertlthaler/profil/spieler/286622', '/thomas-geris/profil/spieler/524487', '/tim-prica/profil/spieler/527347', '/thomas-sabitzer/profil/spieler/394032', '/lautaro-rinaldi/profil/spieler/283602', '/denis-tomic/profil/spieler/335063', '/justin-forst/profil/spieler/602767']\n",
      "['/alexander-schlager/profil/spieler/186374', '/tobias-lawal/profil/spieler/393686', '/lukas-jungwirth/profil/spieler/629011', '/thomas-gebauer/profil/spieler/12137', '/philipp-ziereis/profil/spieler/152627', '/maksym-taloverov/profil/spieler/668557', '/jan-boller/profil/spieler/389079', '/akos-kecskes/profil/spieler/204155', '/felix-luckeneder/profil/spieler/156691', '/philipp-wiesinger/profil/spieler/159139', '/yannis-letard/profil/spieler/590280', '/rene-renner/profil/spieler/212333', '/filip-stojkovic/profil/spieler/139751', '/marvin-potzmann/profil/spieler/106869', '/branko-jovicic/profil/spieler/214715', '/nemanja-celic/profil/spieler/353899', '/peter-michorl/profil/spieler/158106', '/gabriel-zirngast/profil/spieler/523921', '/florian-flecker/profil/spieler/272159', '/robert-zulj/profil/spieler/122676', '/sascha-horvath/profil/spieler/186365', '/keito-nakamura/profil/spieler/405397', '/adil-taoui/profil/spieler/463617', '/moses-usor/profil/spieler/1003622', '/thomas-goiginger/profil/spieler/189912', '/ibrahim-mustapha/profil/spieler/797867', '/marin-ljubicic/profil/spieler/838236', '/tobias-anselm/profil/spieler/321847']\n",
      "['/tino-casali/profil/spieler/169271', '/jakob-odehnal/profil/spieler/526353', '/andreas-jungdal/profil/spieler/592924', '/felix-strauss/profil/spieler/453786', '/lukas-gugganig/profil/spieler/164142', '/jan-zwischenbrugger/profil/spieler/83617', '/pape-alioune-ndiaye/profil/spieler/433219', '/simon-nelson/profil/spieler/488070', '/nosa-iyobosa-edokpolor/profil/spieler/276841', '/david-herold/profil/spieler/604358', '/manuel-thurnwald/profil/spieler/307485', '/samuel-mischitz/profil/spieler/610765', '/emre-yabantas/profil/spieler/694596', '/lukas-jager/profil/spieler/120206', '/stefan-haudum/profil/spieler/156681', '/sebastian-aigner/profil/spieler/404943', '/mike-steven-bahre/profil/spieler/193006', '/jan-jurcec/profil/spieler/672616', '/emanuel-schreiner/profil/spieler/59132', '/johannes-tartarotti/profil/spieler/307871', '/husein-balic/profil/spieler/241803', '/dominik-reiter/profil/spieler/307667', '/csaba-bukta/profil/spieler/501196', '/jurica-jurcec/profil/spieler/502694', '/marko-lazetic/profil/spieler/698548', '/atdhe-nuhiu/profil/spieler/53436', '/noah-bischof/profil/spieler/519444', '/amir-abdijanovic/profil/spieler/404929', '/damian-maksimovic/profil/spieler/807956']\n",
      "['/samuel-sahin-radlinger/profil/spieler/77563', '/richard-strebinger/profil/spieler/93768', '/jonas-wendlinger/profil/spieler/367443', '/patrick-moser/profil/spieler/602625', '/tin-plavotic/profil/spieler/307658', '/david-ungar/profil/spieler/469912', '/julian-turi/profil/spieler/404940', '/markus-lackner/profil/spieler/82536', '/roko-jurisic/profil/spieler/570721', '/philipp-birglehner/profil/spieler/307549', '/josef-weberbauer/profil/spieler/291653', '/matthias-gragger/profil/spieler/452480', '/marcel-ziegl/profil/spieler/59152', '/nikola-stosic/profil/spieler/321885', '/michael-martin/profil/spieler/420376', '/kingsley-michael/profil/spieler/401920', '/julian-wiessmeier/profil/spieler/93559', '/philipp-pomer/profil/spieler/289396', '/leo-mikic/profil/spieler/473296', '/stefan-nutz/profil/spieler/106171', '/christoph-lang/profil/spieler/527589', '/denizcan-cosgun/profil/spieler/488049', '/luca-kronberger/profil/spieler/519011', '/aleksandar-lutovac/profil/spieler/257473', '/belmin-beganovic/profil/spieler/693092', '/christoph-monschein/profil/spieler/300095', '/seifedin-chabbi/profil/spieler/106862', '/stefan-kordic/profil/spieler/724052', '/robin-ungerath/profil/spieler/601393']\n",
      "['/fabian-ehmann/profil/spieler/290088', '/raphael-sallinger/profil/spieler/225360', '/florian-faist/profil/spieler/255287', '/maximilian-pusswald/profil/spieler/782179', '/manfred-gollner/profil/spieler/89055', '/michael-steinwender/profil/spieler/375434', '/thomas-rotter/profil/spieler/119231', '/mario-sonnleitner/profil/spieler/18297', '/marin-karamarko/profil/spieler/317035', '/christian-klem/profil/spieler/58948', '/manuel-pfeifer/profil/spieler/354069', '/patrick-farkas/profil/spieler/81675', '/marcel-schantl/profil/spieler/509992', '/ousmane-diakite/profil/spieler/402007', '/matija-horvat/profil/spieler/338855', '/tobias-kainz/profil/spieler/69741', '/philipp-erhardt/profil/spieler/151216', '/julian-halwachs/profil/spieler/581879', '/maximilian-sellinger/profil/spieler/523900', '/jurgen-heil/profil/spieler/271223', '/fabian-wilfinger/profil/spieler/1009490', '/mario-kropfl/profil/spieler/77991', '/lukas-fadinger/profil/spieler/394018', '/mamadou-sangare/profil/spieler/808348', '/dominik-prokop/profil/spieler/223975', '/philipp-sturm/profil/spieler/307696', '/donis-avdijaj/profil/spieler/196227', '/seth-paintsil/profil/spieler/372813', '/ruben-providence/profil/spieler/536520', '/dominik-frieser/profil/spieler/273553', '/dario-tadic/profil/spieler/50860', '/rene-kriwak/profil/spieler/354058', '/jurgen-lemmerer/profil/spieler/548030', '/jakob-kolb/profil/spieler/1019162']\n",
      "['/domenik-schierl/profil/spieler/111465', '/ammar-helac/profil/spieler/307598', '/simon-nesler-taubl/profil/spieler/806469', '/jean-hugonet/profil/spieler/695644', '/matthias-maak/profil/spieler/102271', '/darijo-grujcic/profil/spieler/307769', '/hannes-kung/profil/spieler/610762', '/hakim-guenouche/profil/spieler/395230', '/tobias-berger/profil/spieler/432227', '/anderson/profil/spieler/494830', '/fabian-gmeiner/profil/spieler/189098', '/angelo-bacic/profil/spieler/610696', '/adriel/profil/spieler/494832', '/torben-rhein/profil/spieler/522253', '/cem-turkmen/profil/spieler/530157', '/pius-grabher/profil/spieler/144585', '/yuliwes-bellache/profil/spieler/1020544', '/daniel-tiefenbach/profil/spieler/382688', '/henri-koudossou/profil/spieler/515624', '/stefano-surdanovic/profil/spieler/307697', '/yadaly-diaby/profil/spieler/806496', '/nemanja-motika/profil/spieler/604323', '/michael-cheukoua/profil/spieler/514366', '/emrehan-gedikli/profil/spieler/580276', '/anthony-schmid/profil/spieler/266494', '/lukas-fridrikas/profil/spieler/291090']\n",
      "['/adrian-chovan/profil/spieler/299561', '/michal-sulla/profil/spieler/121169', '/martin-trnovsky/profil/spieler/434073', '/adam-hrdina/profil/spieler/726664', '/maudo-jarjue/profil/spieler/450462', '/guram-kashia/profil/spieler/55972', '/siemen-voet/profil/spieler/460845', '/richard-krizan/profil/spieler/471135', '/vernon-de-marco/profil/spieler/355656', '/lucas-lovat/profil/spieler/391497', '/lukas-pauschek/profil/spieler/179762', '/jurij-medvedev/profil/spieler/289460', '/uche-agbo/profil/spieler/262689', '/jaba-kankava/profil/spieler/25758', '/juraj-kucka/profil/spieler/74943', '/filip-lichy/profil/spieler/344322', '/jaromir-zmrhal/profil/spieler/235413', '/giorgi-chakvetadze/profil/spieler/412616', '/david-holman/profil/spieler/185996', '/tigran-barseghyan/profil/spieler/270605', '/andre-green/profil/spieler/309841', '/vladimir-weiss/profil/spieler/92701', '/aleksandar-cavric/profil/spieler/189839', '/malik-abubakari/profil/spieler/682794', '/adler/profil/spieler/367634', '/sharani-zuberu/profil/spieler/579631']\n",
      "['/samuel-petras/profil/spieler/412634', '/daniel-veszelinov/profil/spieler/675245', '/ricardo-ferreira/profil/spieler/59508', '/michal-trnovsky/profil/spieler/674498', '/dominik-kruzliak/profil/spieler/315441', '/spyros-risvanis/profil/spieler/279869', '/ahmet-muhamedbegovic/profil/spieler/271323', '/mateus-brunetti/profil/spieler/642983', '/eric-davis/profil/spieler/121791', '/yhoan-andzouana/profil/spieler/342218', '/alex-mendez/profil/spieler/745366', '/alex-pinto/profil/spieler/415645', '/cesar-blackman/profil/spieler/440383', '/damian-kachut/profil/spieler/1027166', '/milan-dimun/profil/spieler/291232', '/enis-fazlagic/profil/spieler/404364', '/zsolt-kalmar/profil/spieler/199268', '/miroslav-kacer/profil/spieler/186382', '/dominik-veselovsky/profil/spieler/525081', '/sebastian-nebyla/profil/spieler/546825', '/ammar-ramadan/profil/spieler/490811', '/zeljko-gavric/profil/spieler/470795', '/brahim-moumou/profil/spieler/512972', '/reg%C5%91-szantho/profil/spieler/551206', '/lukas-leginus/profil/spieler/546875', '/nikola-krstovic/profil/spieler/434433', '/giannis-niarchos/profil/spieler/554404']\n",
      "['/ivan-krajcirik/profil/spieler/489854', '/tomas-fruhwald/profil/spieler/540329', '/dominik-tapaj/profil/spieler/973315', '/matus-kristof/profil/spieler/973316', '/alexander-mojzis/profil/spieler/546831', '/matus-maly/profil/spieler/495829', '/mario-mrva/profil/spieler/481295', '/jan-maslo/profil/spieler/41372', '/matej-madlenak/profil/spieler/470846', '/alexander-selecky/profil/spieler/621945', '/lukas-fabis/profil/spieler/465016', '/viktor-uradnik/profil/spieler/641662', '/matej-kochan/profil/spieler/255771', '/oliver-luteran/profil/spieler/655732', '/gabriel-halabrin/profil/spieler/621963', '/marek-zsigmund/profil/spieler/243260', '/martin-chrien/profil/spieler/252712', '/jakub-rakyta/profil/spieler/582380', '/kristof-domonkos/profil/spieler/496678', '/adrian-macejko/profil/spieler/720770', '/tobias-bujnacek/profil/spieler/797766', '/matus-matej/profil/spieler/804573', '/adam-tucny/profil/spieler/698254', '/samuel-sefcik/profil/spieler/403301', '/tomas-bobcek/profil/spieler/510103', '/stefan-gerec/profil/spieler/232596', '/marko-kelemen/profil/spieler/489871', '/martin-boda/profil/spieler/473326']\n",
      "['/dominik-takac/profil/spieler/471164', '/dobrivoj-rusov/profil/spieler/108415', '/martin-vantruba/profil/spieler/415529', '/lubos-kamenar/profil/spieler/34417', '/sebastian-kosa/profil/spieler/582429', '/lukas-stetina/profil/spieler/119110', '/filip-twardzik/profil/spieler/93873', '/marek-ujlaky/profil/spieler/736922', '/martin-mikovic/profil/spieler/147113', '/kazeem-bolaji/profil/spieler/867274', '/kristian-kostrna/profil/spieler/108405', '/matej-curma/profil/spieler/323294', '/kyriakos-savvidis/profil/spieler/274858', '/roman-prochazka/profil/spieler/80690', '/martin-bukata/profil/spieler/108398', '/jakub-paur/profil/spieler/187761', '/patrick-karhan/profil/spieler/736920', '/kelvin-ofori/profil/spieler/687035', '/samuel-stefanik/profil/spieler/132376', '/azeez-oseni/profil/spieler/837085', '/dyjan-azevedo/profil/spieler/154335', '/erik-daniel/profil/spieler/251916', '/alex-ivan/profil/spieler/499406', '/milan-ristovski/profil/spieler/344968', '/abdulrahman-taiwo/profil/spieler/350398']\n",
      "['/lubomir-belko/profil/spieler/546819', '/matej-slavik/profil/spieler/381481', '/samuel-belanik/profil/spieler/800598', '/tomas-nemcik/profil/spieler/482829', '/patrik-leitner/profil/spieler/546820', '/jan-minarik/profil/spieler/404784', '/adam-kopas/profil/spieler/412633', '/andrej-stojcevski/profil/spieler/715083', '/james-ndjeungoue/profil/spieler/1040824', '/kristian-bari/profil/spieler/570264', '/dominik-javorcek/profil/spieler/610608', '/benson-anang/profil/spieler/596579', '/samuel-kopasek/profil/spieler/583755', '/samuel-gidi/profil/spieler/1018754', '/mario-sauer/profil/spieler/710885', '/david-duris/profil/spieler/497543', '/patrik-ilko/profil/spieler/565050', '/loic-essomba/profil/spieler/1040825', '/richmond-owusu/profil/spieler/854099', '/adrian-kapralik/profil/spieler/546822', '/matus-rusnak/profil/spieler/497816', '/roland-galcik/profil/spieler/627030', '/vladimir-trabalik/profil/spieler/763624', '/timotej-jambor/profil/spieler/582384', '/boris-krstic/profil/spieler/607568']\n",
      "['/michal-kukucka/profil/spieler/687602', '/vozinha/profil/spieler/242277', '/matus-slavicek/profil/spieler/802834', '/kelvin-pires/profil/spieler/662119', '/lazar-stojsavljevic/profil/spieler/542451', '/strahinja-kerkez/profil/spieler/745328', '/lukas-duriska/profil/spieler/192728', '/samuel-bagin/profil/spieler/726671', '/roman-seben/profil/spieler/802838', '/kingsley-madu/profil/spieler/262682', '/samuel-kozlovsky/profil/spieler/429713', '/reuben-yem/profil/spieler/575047', '/simon-micuda/profil/spieler/726670', '/samuel-lavrincik/profil/spieler/483954', '/filip-bainovic/profil/spieler/358909', '/adewale-oladoye/profil/spieler/853239', '/dominik-holly/profil/spieler/802836', '/rahim-ibrahim/profil/spieler/711597', '/matus-kmet/profil/spieler/489870', '/artur-gajdos/profil/spieler/641657', '/dabney-dos-santos/profil/spieler/241500', '/lekan-okunola/profil/spieler/1069606', '/philip-azango/profil/spieler/539262', '/eynel-soares/profil/spieler/581000', '/chinonso-emeka/profil/spieler/673360', '/njegos-kupusovic/profil/spieler/581048']\n",
      "['/benjamin-szaraz/profil/spieler/381487', '/andriy-kozhukhar/profil/spieler/467240', '/michal-ranko/profil/spieler/447560', '/sasa-marjanovic/profil/spieler/701598', '/filip-vasko/profil/spieler/412629', '/zvonko-ceklic/profil/spieler/429793', '/polydefkis-volanakis/profil/spieler/735419', '/jaroslav-holp/profil/spieler/1025778', '/juraj-kotula/profil/spieler/299587', '/daniel-magda/profil/spieler/408887', '/sainey-njie/profil/spieler/739301', '/matus-begala/profil/spieler/344310', '/kristi-qose/profil/spieler/267497', '/yushi-shimamura/profil/spieler/985869', '/david-petrik/profil/spieler/930393', '/igor-zofcak/profil/spieler/40060', '/wisdom-kanu/profil/spieler/474992', '/brian-pena/profil/spieler/617077', '/tibor-slebodnik/profil/spieler/573602', '/issa-adekunle/profil/spieler/477305', '/lukas-janosik/profil/spieler/403298', '/matus-marcin/profil/spieler/225706']\n",
      "['/dominik-svacek/profil/spieler/269167', '/denis-groger/profil/spieler/358129', '/martin-polacek/profil/spieler/90954', '/david-huska/profil/spieler/1033780', '/gergely-tumma/profil/spieler/434079', '/imrich-bedecs/profil/spieler/383375', '/richard-zupa/profil/spieler/494421', '/mihajilo-popovic/profil/spieler/132422', '/rastislav-vaclavik/profil/spieler/340080', '/david-filinsky/profil/spieler/391855', '/strahinja-pavisic/profil/spieler/557603', '/marko-totka/profil/spieler/572413', '/tomas-gerat/profil/spieler/232595', '/christian-steinhubel/profil/spieler/264769', '/ivan-kotora/profil/spieler/120207', '/martin-necas/profil/spieler/293361', '/tomas-stas/profil/spieler/403456', '/tobias-divis/profil/spieler/809448', '/luboslav-laura/profil/spieler/403626', '/adam-gazi/profil/spieler/720769', '/rene-dedic/profil/spieler/316289', '/richard-bartos/profil/spieler/232594', '/peter-vosko/profil/spieler/631401', '/erik-jendrisek/profil/spieler/41369', '/adam-matos/profil/spieler/547322']\n",
      "['/patrik-lukac/profil/spieler/264766', '/matus-chropovsky/profil/spieler/686759', '/patrik-richter/profil/spieler/911193', '/martin-toml/profil/spieler/221287', '/michal-pinter/profil/spieler/223603', '/alden-suvalija/profil/spieler/614420', '/matus-conka/profil/spieler/90869', '/samuel-sula/profil/spieler/497544', '/stephano-almeida/profil/spieler/606726', '/tomce-grozdanovski/profil/spieler/580826', '/martin-bednar/profil/spieler/344309', '/timotej-mudry/profil/spieler/549932', '/denis-duga/profil/spieler/315440', '/anton-sloboda/profil/spieler/74950', '/adam-brenkus/profil/spieler/412636', '/tomas-dubek/profil/spieler/41367', '/karol-mondek/profil/spieler/192738', '/patrik-pinte/profil/spieler/258287', '/lucas-demitra/profil/spieler/582425', '/tomas-vestenicky/profil/spieler/186393', '/kenneth-ikugar/profil/spieler/876273', '/roman-cerepkai/profil/spieler/546879']\n",
      "['/richard-ludha/profil/spieler/575049', '/matej-luksch/profil/spieler/568339', '/ivan-rehak/profil/spieler/546824', '/marek-kristian-bartos/profil/spieler/564120', '/matej-oravec/profil/spieler/389619', '/matej-gresak/profil/spieler/418756', '/richard-hecko/profil/spieler/582427', '/alex-molcan/profil/spieler/582377', '/peter-kovacik/profil/spieler/704979', '/nicolas-sikula/profil/spieler/582405', '/mikulas-bakala/profil/spieler/631402', '/filip-mielke/profil/spieler/804559', '/mirsad-miraljemovic/profil/spieler/710971', '/rene-paraj/profil/spieler/404349', '/damian-baris/profil/spieler/278861', '/martin-luptak/profil/spieler/804560', '/simon-fasko/profil/spieler/969330', '/samuel-datko/profil/spieler/483956', '/patrik-blahut/profil/spieler/404604', '/marcel-vasil/profil/spieler/365135', '/vladimir-kukol/profil/spieler/74944', '/jozef-spyrka/profil/spieler/456006', '/christophe-kabongo/profil/spieler/707347', '/martin-talakov/profil/spieler/715314', '/ibrahim-sad/profil/spieler/1027315', '/adam-horvat/profil/spieler/1027170', '/moussa-sangare/profil/spieler/838630', '/andy-masaryk/profil/spieler/941453', '/daniel-pavuk/profil/spieler/499433', '/marek-kuzma/profil/spieler/42649']\n",
      "['/matus-hruska/profil/spieler/361001', '/julius-nota/profil/spieler/599523', '/filip-balaz/profil/spieler/720767', '/nicolas-gorosito/profil/spieler/125281', '/jakub-uhrincat/profil/spieler/804553', '/marian-pisoja/profil/spieler/344312', '/lubomir-willweber/profil/spieler/360805', '/lukas-migala/profil/spieler/91672', '/lubos-kupcik/profil/spieler/104984', '/adam-cerven/profil/spieler/582376', '/timotej-zahumensky/profil/spieler/326482', '/adrian-slavik/profil/spieler/429717', '/matus-koros/profil/spieler/815993', '/david-richtarech/profil/spieler/342180', '/branislav-luptak/profil/spieler/132371', '/andrija-balic/profil/spieler/316111', '/michal-fasko/profil/spieler/178914', '/adam-hanes/profil/spieler/793107', '/robert-polievka/profil/spieler/291234', '/adrian-kacerik/profil/spieler/396616', '/martin-rymarenko/profil/spieler/418754', '/matej-franko/profil/spieler/648115', '/david-depetris/profil/spieler/140026', '/david-jackuliak/profil/spieler/802812']\n",
      "['/martin-junas/profil/spieler/186381', '/igor-semrinec/profil/spieler/90307', '/martin-cernek/profil/spieler/478431', '/filip-blazek/profil/spieler/405501', '/haiderson-hurtado/profil/spieler/790290', '/oliver-podhorin/profil/spieler/382207', '/ondrej-rudzan/profil/spieler/438566', '/marek-vaclav/profil/spieler/471455', '/adam-morong/profil/spieler/216862', '/adam-krcik/profil/spieler/404341', '/martin-nagy/profil/spieler/92182', '/mario-holly/profil/spieler/570141', '/denis-baumgartner/profil/spieler/324993', '/martin-masik/profil/spieler/570142', '/andrej-fabry/profil/spieler/406791', '/jan-vlasko/profil/spieler/62539', '/jakub-kousal/profil/spieler/728684', '/yann-yao/profil/spieler/531032', '/jakub-svec/profil/spieler/553347', '/zan-medved/profil/spieler/340425', '/roman-hasa/profil/spieler/265919']\n",
      "['/anatoliy-trubin/profil/spieler/537844', '/dmytro-riznyk/profil/spieler/597880', '/andriy-pyatov/profil/spieler/39996', '/oleksiy-shevchenko/profil/spieler/136537', '/mykola-matvienko/profil/spieler/289059', '/valeriy-bondar/profil/spieler/396394', '/yaroslav-rakitskyi/profil/spieler/89222', '/maryan-faryna/profil/spieler/935039', '/eduard-kozik/profil/spieler/708240', '/bogdan-mykhaylichenko/profil/spieler/294730', '/viktor-kornienko/profil/spieler/467243', '/yukhym-konoplya/profil/spieler/467250', '/lucas-taylor/profil/spieler/387928', '/giorgi-gocholeishvili/profil/spieler/540056', '/taras-stepanenko/profil/spieler/59970', '/neven-djurasek/profil/spieler/341424', '/yegor-nazaryna/profil/spieler/430190', '/dmytro-kryskiv/profil/spieler/537852', '/georgiy-sudakov/profil/spieler/623325', '/artem-bondarenko/profil/spieler/537854', '/andriy-totovytskyi/profil/spieler/277777', '/oleg-ocheretko/profil/spieler/708241', '/ivan-petryak/profil/spieler/203074', '/dmytro-topalov/profil/spieler/365692', '/khusrav-toirov/profil/spieler/762387', '/oleksandr-zubkov/profil/spieler/289075', '/maryan-shved/profil/spieler/359247', '/lassina-traore/profil/spieler/551695', '/danylo-sikan/profil/spieler/417228', '/kevin-kelsy/profil/spieler/888023', '/andriy-boryachuk/profil/spieler/203854']\n",
      "['/georgiy-bushchan/profil/spieler/206888', '/ruslan-neshcheret/profil/spieler/417242', '/denys-boyko/profil/spieler/91931', '/denys-popov/profil/spieler/404841', '/oleksandr-syrota/profil/spieler/505463', '/maksym-dyachuk/profil/spieler/726014', '/anton-bol/profil/spieler/838384', '/vladyslav-dubinchak/profil/spieler/366723', '/kostyantyn-vivcharenko/profil/spieler/636237', '/volodymyr-kostevych/profil/spieler/208469', '/oleksandr-tymchyk/profil/spieler/287792', '/sergiy-sydorchuk/profil/spieler/124182', '/reshat-ramadani/profil/spieler/893187', '/mykola-shaparenko/profil/spieler/368611', '/volodymyr-shepelev/profil/spieler/294746', '/oleksandr-andriyevskyi/profil/spieler/207074', '/justin-lonwijk/profil/spieler/357917', '/oleksandr-yatsyk/profil/spieler/726019', '/oleksandr-karavaev/profil/spieler/59322', '/vitaliy-buyalskyi/profil/spieler/167722', '/vladyslav-kabaev/profil/spieler/210689', '/denys-garmash/profil/spieler/70754', '/bogdan-lednev/profil/spieler/423606', '/anton-tsarenko/profil/spieler/717390', '/samba-diallo/profil/spieler/649030', '/benito/profil/spieler/491960', '/kaheem-parris/profil/spieler/530414', '/nazar-voloshyn/profil/spieler/726034', '/vladyslav-supryaga/profil/spieler/419061', '/eric-ramirez/profil/spieler/428746', '/vladyslav-vanat/profil/spieler/631821']\n",
      "['/max-walef/profil/spieler/592336', '/vladyslav-rybak/profil/spieler/880039', '/yakiv-kinareykin/profil/spieler/952943', '/eduard-sarapiy/profil/spieler/678778', '/oleksandr-svatok/profil/spieler/244271', '/gabriel-gomes/profil/spieler/969596', '/vitaliy-fedoriv/profil/spieler/58392', '/yanis-hamache/profil/spieler/629567', '/ronald-matarrita/profil/spieler/268273', '/oleksandr-kapliyenko/profil/spieler/248931', '/valeriy-luchkevych/profil/spieler/248934', '/volodymyr-adamyuk/profil/spieler/273663', '/emiliano-purita/profil/spieler/471638', '/hayner/profil/spieler/389942', '/mykyta-kononov/profil/spieler/721512', '/oleksandr-pikhalyonok/profil/spieler/294780', '/domingo-blanco/profil/spieler/285127', '/valentyn-rubchynskyi/profil/spieler/666943', '/ruslan-babenko/profil/spieler/94928', '/igor-kogut/profil/spieler/448868', '/vyacheslav-tankovskyi/profil/spieler/213980', '/volodymyr-tanchyk/profil/spieler/95707', '/yevgeniy-pasich/profil/spieler/315237', '/oleksiy-gutsulyak/profil/spieler/296366', '/fares-bahlouli/profil/spieler/190333', '/peglow/profil/spieler/627227', '/oleksandr-nazarenko/profil/spieler/495920', '/yevgen-pidlepenets/profil/spieler/678783', '/artem-dovbyk/profil/spieler/343537']\n",
      "['/dmytro-matsapura/profil/spieler/775832', '/vladyslav-kucheruk/profil/spieler/404838', '/mykyta-turbayevskyi/profil/spieler/709478', '/anton-zhylkin/profil/spieler/924466', '/oleksandr-saputin/profil/spieler/936008', '/arseniy-batagov/profil/spieler/665048', '/mykyta-burda/profil/spieler/213865', '/maksym-imerekov/profil/spieler/94924', '/igor-snurnitsyn/profil/spieler/419119', '/roman-vantukh/profil/spieler/396536', '/maksym-smiyan/profil/spieler/951439', '/oleg-danchenko/profil/spieler/257937', '/igor-kyryukhantsev/profil/spieler/203855', '/bogdan-butko/profil/spieler/94922', '/pavlo-polegenko/profil/spieler/216579', '/volodymyr-brazhko/profil/spieler/669306', '/ilya-gulko/profil/spieler/771912', '/dmytro-myshnyov/profil/spieler/212243', '/kyrylo-dryshlyuk/profil/spieler/501417', '/yevgen-shakhov/profil/spieler/58970', '/oleksiy-khakhlyov/profil/spieler/404847', '/maksym-kazakov/profil/spieler/373044', '/sergiy-buletsa/profil/spieler/404846', '/maksym-khlan/profil/spieler/721511', '/denys-antyukh/profil/spieler/383325', '/vyacheslav-churko/profil/spieler/131553', '/nazariy-rusyn/profil/spieler/366729', '/denys-nagnoynyi/profil/spieler/892053', '/eduardo-guerrero/profil/spieler/502842']\n",
      "['/pavlo-isenko/profil/spieler/726033', '/ivan-ponomarenko/profil/spieler/495917', '/sergiy-yavorskyi/profil/spieler/91479', '/volodymyr-chesnakov/profil/spieler/58930', '/yevgen-pavlyuk/profil/spieler/771914', '/lucas-ramires/profil/spieler/1003436', '/gabriel-nazario/profil/spieler/892057', '/vasyl-kravets/profil/spieler/245048', '/andriy-batsula/profil/spieler/310782', '/igor-perduta/profil/spieler/201671', '/felipe-rodrigues/profil/spieler/436833', '/ilya-krupskyi/profil/spieler/889438', '/artem-chelyadin/profil/spieler/511909', '/oleksandr-sklyar/profil/spieler/91801', '/andriy-kravchuk/profil/spieler/537859', '/artem-kulakovskyi/profil/spieler/745252', '/ibrahim-kane/profil/spieler/543380', '/vladlen-yurchenko/profil/spieler/157373', '/ricardo-lopes/profil/spieler/375226', '/denys-oliynyk/profil/spieler/57895', '/ruslan-stepanyuk/profil/spieler/222079', '/taulant-seferi/profil/spieler/254985', '/marlyson/profil/spieler/542597', '/rodel-richards/profil/spieler/510432']\n",
      "['/mykyta-shevchenko/profil/spieler/80312', '/valentyn-gorokh/profil/spieler/725356', '/georgiy-yermakov/profil/spieler/775709', '/vladyslav-baboglo/profil/spieler/567873', '/valeriy-bondarenko/profil/spieler/365540', '/sergiy-loginov/profil/spieler/110688', '/andriy-tsurikov/profil/spieler/155964', '/oleksandr-martynyuk/profil/spieler/719652', '/denys-miroshnichenko/profil/spieler/244262', '/danil-skorko/profil/spieler/631819', '/mykola-mykhaylenko/profil/spieler/626475', '/sergiy-rybalka/profil/spieler/81649', '/bogdan-biloshevskyi/profil/spieler/461670', '/yuriy-kopyna/profil/spieler/432658', '/kyrylo-sigeev/profil/spieler/935047', '/vladyslav-kalitvintsev/profil/spieler/108710', '/emil-mustafaev/profil/spieler/892054', '/kyrylo-kovalets/profil/spieler/140676', '/vikentiy-voloshyn/profil/spieler/470831', '/maksym-tretyakov/profil/spieler/248938', '/artem-shulyanskyi/profil/spieler/261780', '/andriy-kulakov/profil/spieler/404848', '/oleg-kozhushko/profil/spieler/343492', '/bogdan-kobzar/profil/spieler/789478', '/yegor-gunichev/profil/spieler/809569']\n",
      "['/yevgen-volynets/profil/spieler/166581', '/volodymyr-makhankov/profil/spieler/294723', '/kiril-fesyun/profil/spieler/751977', '/sergiy-chobotenko/profil/spieler/245021', '/roman-goncharenko/profil/spieler/382895', '/yevgen-novak/profil/spieler/91358', '/oleksandr-chornomorets/profil/spieler/167555', '/nikolay-zolotov/profil/spieler/297752', '/vladyslav-yemets/profil/spieler/576022', '/mykyta-kravchenko/profil/spieler/370399', '/oleksiy-zozulya/profil/spieler/269365', '/pavlo-orikhovskyi/profil/spieler/248936', '/yevgeniy-smyrnyi/profil/spieler/396532', '/andriy-bogdanov/profil/spieler/92567', '/vadym-milko/profil/spieler/58418', '/oleg-ilyin/profil/spieler/495923', '/sergiy-myakushko/profil/spieler/193158', '/sergiy-bolbat/profil/spieler/264063', '/vladyslav-veleten/profil/spieler/729781', '/denys-bezborodko/profil/spieler/269371', '/yevgeniy-isaenko/profil/spieler/539441', '/kiril-popov/profil/spieler/726035', '/volodymyr-lysenko/profil/spieler/58413']\n",
      "['/bogdan-kogut/profil/spieler/70923', '/vadym-yushchyshyn/profil/spieler/729432', '/arseniy-korkodym/profil/spieler/841149', '/semen-vovchenko/profil/spieler/775830', '/vasyl-kurko/profil/spieler/512496', '/danyil-khondak/profil/spieler/539437', '/mykola-kvasnyi/profil/spieler/398675', '/roman-gagun/profil/spieler/522327', '/denys-balan/profil/spieler/166563', '/oleksandr-savoshko/profil/spieler/775824', '/valeriy-kucherov/profil/spieler/273341', '/dmytro-klyots/profil/spieler/294188', '/oleksandr-lebedenko/profil/spieler/241686', '/stanislav-sharay/profil/spieler/576021', '/vitaliy-dakhnovskyi/profil/spieler/688714', '/gennadiy-pasich/profil/spieler/315236', '/vladyslav-sharay/profil/spieler/520400', '/andriy-bliznichenko/profil/spieler/177818', '/mykola-gayduchyk/profil/spieler/860701', '/mykhaylo-shestakov/profil/spieler/321165']\n",
      "['/oleg-mozil/profil/spieler/289060', '/denys-sydorenko/profil/spieler/59446', '/igor-potimkov/profil/spieler/1048954', '/igor-kurylo/profil/spieler/295845', '/mykhaylo-shershen/profil/spieler/385416', '/mykyta-bezuglyi/profil/spieler/289472', '/yevgeniy-tkachuk/profil/spieler/86466', '/yuriy-potimkov/profil/spieler/951690', '/mykhaylo-rudavskyi/profil/spieler/623322', '/ivan-kovalenko/profil/spieler/560110', '/dmytro-kapinus/profil/spieler/718408', '/maksym-zhychykov/profil/spieler/59136', '/dmytro-kravchenko/profil/spieler/255638', '/artem-gabelok/profil/spieler/213974', '/beka-vachiberadze/profil/spieler/204045', '/yaroslav-martynyuk/profil/spieler/58072', '/rostyslav-rusyn/profil/spieler/289487', '/andriy-remenyuk/profil/spieler/497221', '/kostyantyn-bychek/profil/spieler/913115', '/vladyslav-dmytrenko/profil/spieler/464619', '/vitaliy-ponomar/profil/spieler/90769', '/andriy-chyruk/profil/spieler/623327']\n",
      "['/yuriy-pankiv/profil/spieler/102572', '/dmytro-ledviy/profil/spieler/937917', '/yuriy-volodymyr-gereta/profil/spieler/717394', '/roman-didyk/profil/spieler/702561', '/denys-slyusar/profil/spieler/774552', '/bogdan-slyubyk/profil/spieler/717199', '/oleg-veremiyenko/profil/spieler/497222', '/vitaliy-kholod/profil/spieler/1050852', '/rostyslav-lyakh/profil/spieler/533537', '/vitaliy-roman/profil/spieler/726038', '/andriy-kitela/profil/spieler/776033', '/edson-fernando/profil/spieler/686332', '/marko-sapuga/profil/spieler/892049', '/oleksiy-dovgyi/profil/spieler/91419', '/denys-pidgurskyi/profil/spieler/812755', '/valeriy-fedorchuk/profil/spieler/82599', '/talles/profil/spieler/740732', '/maryan-mysyk/profil/spieler/316945', '/ostap-prytula/profil/spieler/620368', '/yuriy-klymchuk/profil/spieler/501612', '/vasyl-runich/profil/spieler/748940', '/ruslan-nepeypiev/profil/spieler/937918', '/viv-solomon-otabor/profil/spieler/391127', '/fabricio-alvarenga/profil/spieler/381430', '/bright-enobakhare/profil/spieler/345772', '/yaroslav-karabin/profil/spieler/789583']\n",
      "['/valeriy-yurchuk/profil/spieler/292396', '/oleksandr-rybka/profil/spieler/19619', '/ilya-olkhovyi/profil/spieler/911644', '/artem-vovkun/profil/spieler/746397', '/roman-nykytyuk/profil/spieler/322952', '/guilherme/profil/spieler/659219', '/maksym-sasovskyi/profil/spieler/766709', '/higor-gabriel/profil/spieler/735788', '/sergiy-siminin/profil/spieler/58252', '/oleksiy-dytyatyev/profil/spieler/242279', '/denys-kuzyk/profil/spieler/723621', '/oula-traore/profil/spieler/724428', '/andriy-busko/profil/spieler/524965', '/akhmed-alibekov/profil/spieler/343175', '/artem-mylchenko/profil/spieler/539444', '/leo-antonio/profil/spieler/809617', '/oleksandr-belyaev/profil/spieler/524031', '/maksym-grysyo/profil/spieler/448783', '/roman-mykhayliv/profil/spieler/959399', '/vitaliy-mykhayliv/profil/spieler/1059630', '/ivijan-svrznjak/profil/spieler/432763', '/yaroslav-bogunov/profil/spieler/214448', '/artur-remenyak/profil/spieler/821535', '/aderinsola-habib-eseola/profil/spieler/122361', '/vladyslav-bugay/profil/spieler/396411']\n",
      "['/dmitriy-nepogodov/profil/spieler/77847', '/danylo-varakuta/profil/spieler/678503', '/yevgen-past/profil/spieler/49016', '/vitaliy-yermakov/profil/spieler/169260', '/luka-gucek/profil/spieler/365779', '/maksym-bilyi/profil/spieler/107803', '/volodymyr-salyuk/profil/spieler/930106', '/maksym-voytikhovskyi/profil/spieler/495922', '/yevgen-selin/profil/spieler/59442', '/ilya-putrya/profil/spieler/396400', '/oleksandr-demchenko/profil/spieler/463845', '/oleksandr-vasyliev/profil/spieler/173079', '/yevgen-zadoya/profil/spieler/59978', '/sergiy-politylo/profil/spieler/58606', '/dmytro-romanov/profil/spieler/1050221', '/inal-chertkoev/profil/spieler/570538', '/rodion-plaksa/profil/spieler/830079', '/guy-hadida/profil/spieler/378972', '/artur-avagimyan/profil/spieler/244904', '/orest-kuzyk/profil/spieler/353252', '/maksym-bragaru/profil/spieler/695310', '/ziguy-badibanga/profil/spieler/124025', '/dmytro-yusov/profil/spieler/242854', '/oleksandr-gladkyi/profil/spieler/53270', '/andriy-shtogrin/profil/spieler/581782', '/danyil-alefirenko/profil/spieler/755174']\n",
      "['/oleg-bilyk/profil/spieler/449084', '/oleksiy-palamarchuk/profil/spieler/58939', '/roman-pidkivka/profil/spieler/278917', '/kyrylo-arkhypchuk/profil/spieler/926273', '/dmytro-pospelov/profil/spieler/108866', '/vitaliy-pavlov/profil/spieler/59115', '/maksym-kovalyov/profil/spieler/58402', '/sergiy-chenbay/profil/spieler/226014', '/artem-smolyakov/profil/spieler/962090', '/maksym-melnychuk/profil/spieler/461666', '/dmitri-nagiyev/profil/spieler/288857', '/vladyslav-sydorenko/profil/spieler/583354', '/oleksandr-kucherenko/profil/spieler/358956', '/yevgen-zaporozhets/profil/spieler/380554', '/vladyslav-klymenko/profil/spieler/321146', '/andriy-kukharuk/profil/spieler/365195', '/andriy-korobenko/profil/spieler/347804', '/yuriy-kozyrenko/profil/spieler/429157', '/dmitri-mandricenco/profil/spieler/351616', '/denys-rezepov/profil/spieler/808973', '/oleksandr-kozak/profil/spieler/375180', '/viktor-bliznichenko/profil/spieler/669305', '/volodymyr-odaryuk/profil/spieler/395069', '/danylo-kravchuk/profil/spieler/751363', '/ivan-golovkin/profil/spieler/581405', '/maksym-marusych/profil/spieler/325386', '/artem-sitalo/profil/spieler/320247']\n",
      "['/oleksandr-bandura/profil/spieler/85969', '/german-penkov/profil/spieler/375659', '/oleksandr-kemkin/profil/spieler/729638', '/oleg-gorin/profil/spieler/539738', '/oleksandr-melnyk/profil/spieler/418891', '/dmytro-nemchaninov/profil/spieler/120262', '/bogdan-chuev/profil/spieler/539435', '/yuriy-kravchuk/profil/spieler/320953', '/ivan-trubochkin/profil/spieler/166580', '/andriy-buleza/profil/spieler/708242', '/igor-gonchar/profil/spieler/201625', '/taras-dmytruk/profil/spieler/461654', '/vadym-vitenchuk/profil/spieler/641426', '/mykhaylo-shyshka/profil/spieler/168041', '/sergiy-petko/profil/spieler/353584', '/nazariy-vorobchak/profil/spieler/765401', '/mihail-ghecev/profil/spieler/520517', '/valeriy-rogozynskyi/profil/spieler/332132', '/yegor-tverdokhlib/profil/spieler/758845', '/ruslan-palamar/profil/spieler/211318', '/anton-baydal/profil/spieler/699842', '/danylo-golub/profil/spieler/1045568', '/oleg-vyshnevskyi/profil/spieler/562484', '/danylo-kolesnyk/profil/spieler/913387', '/yevgen-seleznyov/profil/spieler/59908', '/yuriy-kolomoets/profil/spieler/91425']\n",
      "['/orest-kostyk/profil/spieler/747315', '/daniil-yermolov/profil/spieler/572163', '/myroslav-znovenko/profil/spieler/774554', '/oleksandr-myzyuk/profil/spieler/767643', '/bogdan-porokh/profil/spieler/661776', '/pathy-malumandsoko/profil/spieler/487194', '/yegor-klymenchuk/profil/spieler/375955', '/volodymyr-shopin/profil/spieler/307308', '/anderson-pico/profil/spieler/54031', '/yuriy-romanyuk/profil/spieler/428380', '/andriy-ralyuchenko/profil/spieler/369093', '/igor-chaykovskyi/profil/spieler/94923', '/sergiy-panasenko/profil/spieler/307053', '/yegor-demchenko/profil/spieler/387198', '/yegor-kartushov/profil/spieler/94925', '/vladyslav-naumets/profil/spieler/404845', '/maksym-bagachanskyi/profil/spieler/808113', '/dmytro-korkishko/profil/spieler/91380', '/bogdan-boychuk/profil/spieler/337198', '/yevgeniy-ryazantsev/profil/spieler/669312', '/dmytro-shamych/profil/spieler/774533', '/maksym-pryadun/profil/spieler/509837', '/aleks-chidomere/profil/spieler/771909']\n",
      "['/bogdan-sarnavskyi/profil/spieler/177276', '/andriy-klishchuk/profil/spieler/190190', '/bogdan-khoma/profil/spieler/978659', '/danylo-beskorovaynyi/profil/spieler/523907', '/dmytro-semenov/profil/spieler/495918', '/vitaliy-vernydub/profil/spieler/59973', '/volodymyr-yakimets/profil/spieler/396402', '/tymur-stetskov/profil/spieler/549960', '/yvan-dibango/profil/spieler/863919', '/yevgen-opanasenko/profil/spieler/86931', '/vyacheslav-ryabov/profil/spieler/112364', '/klim-prykhodko/profil/spieler/419062', '/yevgen-banada/profil/spieler/242272', '/rifet-kapic/profil/spieler/251676', '/vladyslav-semotyuk/profil/spieler/625144', '/tymur-korablin/profil/spieler/795280', '/denys-shevchenko/profil/spieler/1050249', '/dmytro-khomchenovskyi/profil/spieler/59896', '/mykyta-tatarkov/profil/spieler/321417', '/maksym-lunyov/profil/spieler/401822', '/artur-mykytyshyn/profil/spieler/726036', '/andriy-ponedelnik/profil/spieler/522833', '/jean-morel-poe/profil/spieler/569056', '/maksym-zaderaka/profil/spieler/325429', '/roman-debelko/profil/spieler/262182', '/denys-ustymenko/profil/spieler/622410']\n"
     ]
    }
   ],
   "source": [
    "for club_url in clubs:\n",
    "    print(get_players_of_certain_club(club_url))\n",
    "    with open(f\"./players.txt\", \"a+\") as f:\n",
    "        f.write(\";\".join(get_players_of_certain_club(club_url)))"
   ],
   "metadata": {
    "collapsed": false
   }
  },
  {
   "cell_type": "code",
   "execution_count": 212,
   "outputs": [],
   "source": [
    "url = 'https://www.transfermarkt.co.uk/afonso-sousa/profil/spieler/375378'\n",
    "\n",
    "headers = {\n",
    "    \"user-agent\": \"Mozilla/5.0 (Windows NT 10.0; Win64; x64) AppleWebKit/537.36 (KHTML, like Gecko) Chrome/109.0.0.0 Safari/537.36 OPR/95.0.0.0\"}\n",
    "\n",
    "response = requests.request(\"GET\", url, headers=headers)\n",
    "soup = BeautifulSoup(response.text)"
   ],
   "metadata": {
    "collapsed": false
   }
  },
  {
   "cell_type": "code",
   "execution_count": 213,
   "outputs": [
    {
     "data": {
      "text/plain": "'Date of birth:'"
     },
     "execution_count": 213,
     "metadata": {},
     "output_type": "execute_result"
    }
   ],
   "source": [
    "soup.find_all(\"span\", class_=\"info-table__content info-table__content--regular\")[1].text"
   ],
   "metadata": {
    "collapsed": false
   }
  },
  {
   "cell_type": "code",
   "execution_count": 214,
   "outputs": [
    {
     "data": {
      "text/plain": "'May 3, 2000 '"
     },
     "execution_count": 214,
     "metadata": {},
     "output_type": "execute_result"
    }
   ],
   "source": [
    "soup.find_all(\"span\", class_=\"info-table__content info-table__content--bold\")[1].text"
   ],
   "metadata": {
    "collapsed": false
   }
  },
  {
   "cell_type": "code",
   "execution_count": 215,
   "outputs": [],
   "source": [
    "player_bio = dict()\n",
    "for pd in range(1, soup.find_all(\"span\", class_=\"info-table__content info-table__content--bold\").__len__()):\n",
    "    player_bio[f'{soup.find_all(\"span\", class_=\"info-table__content info-table__content--regular\")[pd].text}'] = \\\n",
    "        soup.find_all(\"span\", class_=\"info-table__content info-table__content--bold\")[pd].text"
   ],
   "metadata": {
    "collapsed": false
   }
  },
  {
   "cell_type": "code",
   "execution_count": 216,
   "outputs": [
    {
     "data": {
      "text/plain": "{'Date of birth:': 'May 3, 2000 ',\n 'Place of birth:': '\\nAveiro\\xa0\\xa0 ',\n 'Age:': '22',\n 'Height:': '1,74\\xa0m',\n 'Citizenship:': '\\n\\xa0\\xa0Portugal                    ',\n 'Position:': '\\n                    midfield - Attacking Midfield                ',\n 'Foot:': 'right',\n 'Player agent:': '\\n                        Jul 1, 2022                    ',\n '\\n                    Current club:\\n                ': 'Jun 30, 2026',\n 'Joined:': '\\n\\n \\n'}"
     },
     "execution_count": 216,
     "metadata": {},
     "output_type": "execute_result"
    }
   ],
   "source": [
    "player_bio"
   ],
   "metadata": {
    "collapsed": false
   }
  },
  {
   "cell_type": "code",
   "execution_count": 218,
   "outputs": [],
   "source": [
    "import pandas as pd\n",
    "\n",
    "data = {\n",
    "    'name': [],\n",
    "    'date of birth': [],\n",
    "    'height': [],\n",
    "    'foot': [],\n",
    "    'joined': [],\n",
    "    'contract until': [],\n",
    "}\n",
    "\n",
    "headers = {\n",
    "    'User-Agent': 'Mozilla/5.0 (X11; Linux x86_64) AppleWebKit/537.36 (KHTML, like Gecko) Chrome/47.0.2526.106 Safari/537.36'\n",
    "}\n",
    "for club in clubs:\n",
    "    url = club.replace(\"startseite\", \"kader\") + \"/plus/1\"\n",
    "    response = requests.get(url, headers=headers)\n",
    "    soup = BeautifulSoup(response.content, 'html.parser')\n",
    "\n",
    "    all_tr = soup.find_all('tr', {'class': ['odd', 'even']})\n",
    "    #print('rows:', len(all_tr))\n",
    "\n",
    "    for row in all_tr:\n",
    "        all_td = row.find_all('td', recursive=False)\n",
    "\n",
    "        #print('columns:', len(all_td))\n",
    "        #for column in all_td:\n",
    "        #    print(' >', column.text)\n",
    "\n",
    "        data['name'].append(all_td[1].text.split('.')[0][:-1])\n",
    "        data['date of birth'].append(all_td[2].text[:-5])\n",
    "        data['height'].append(all_td[4].text)\n",
    "        data['foot'].append(all_td[5].text)\n",
    "        data['joined'].append(all_td[6].text)\n",
    "        data['contract until'].append(all_td[8].text)\n",
    "\n",
    "df = pd.DataFrame(data)"
   ],
   "metadata": {
    "collapsed": false
   }
  },
  {
   "cell_type": "code",
   "execution_count": null,
   "outputs": [],
   "source": [
    "clubs[0].replace(\"startseite\", \"kader\") + \"/plus/1\""
   ],
   "metadata": {
    "collapsed": false
   }
  },
  {
   "cell_type": "code",
   "execution_count": 219,
   "outputs": [
    {
     "data": {
      "text/plain": "                                                   name date of birth height  \\\n0     \\n\\n\\n\\n \\n\\n\\n                Filip Bednarek ...  Sep 26, 1992  1,88m   \n1     \\n\\n\\n\\n \\n\\n\\n                Dominik Holec  ...  Jul 28, 1994  1,91m   \n2     \\n\\n\\n\\n \\n\\n\\n                Artur Rudko    ...   May 7, 1992  1,90m   \n3     \\n\\n\\n\\n \\n\\n\\n                Antonio Milic  ...  Mar 10, 1994  1,90m   \n4     \\n\\n\\n\\n \\n\\n\\n                Filip Dagerstal...   Feb 1, 1997  1,89m   \n...                                                 ...           ...    ...   \n1632  \\n\\n\\n\\n \\n\\n\\n                Andriy Ponedeln...  Feb 28, 1997  1,80m   \n1633  \\n\\n\\n\\n \\n\\n\\n                Jean-Morel Poé ...  Dec 15, 1996  1,84m   \n1634  \\n\\n\\n\\n \\n\\n\\n                Maksym Zaderaka...   Sep 7, 1994  1,71m   \n1635  \\n\\n\\n\\n \\n\\n\\n                Roman Debelko  ...   Aug 8, 1993  1,87m   \n1636  \\n\\n\\n\\n \\n\\n\\n                Denys Ustymenko...  Apr 12, 1999  1,85m   \n\n       foot        joined contract until  \n0     right   Jul 1, 2020   Jun 30, 2025  \n1     right   Jan 3, 2023   Jun 30, 2023  \n2     right   Jul 2, 2022   Jun 30, 2023  \n3      left  Jan 10, 2021   Jun 30, 2026  \n4     right  Jul 26, 2022   Jun 30, 2023  \n...     ...           ...            ...  \n1632  right   Jul 1, 2022   Jun 30, 2024  \n1633   left  Sep 22, 2022   Jun 30, 2023  \n1634  right  Jul 11, 2022   Jun 30, 2023  \n1635  right  Jul 22, 2021   Dec 31, 2023  \n1636  right   Jul 1, 2022   Jun 30, 2025  \n\n[1637 rows x 6 columns]",
      "text/html": "<div>\n<style scoped>\n    .dataframe tbody tr th:only-of-type {\n        vertical-align: middle;\n    }\n\n    .dataframe tbody tr th {\n        vertical-align: top;\n    }\n\n    .dataframe thead th {\n        text-align: right;\n    }\n</style>\n<table border=\"1\" class=\"dataframe\">\n  <thead>\n    <tr style=\"text-align: right;\">\n      <th></th>\n      <th>name</th>\n      <th>date of birth</th>\n      <th>height</th>\n      <th>foot</th>\n      <th>joined</th>\n      <th>contract until</th>\n    </tr>\n  </thead>\n  <tbody>\n    <tr>\n      <th>0</th>\n      <td>\\n\\n\\n\\n \\n\\n\\n                Filip Bednarek ...</td>\n      <td>Sep 26, 1992</td>\n      <td>1,88m</td>\n      <td>right</td>\n      <td>Jul 1, 2020</td>\n      <td>Jun 30, 2025</td>\n    </tr>\n    <tr>\n      <th>1</th>\n      <td>\\n\\n\\n\\n \\n\\n\\n                Dominik Holec  ...</td>\n      <td>Jul 28, 1994</td>\n      <td>1,91m</td>\n      <td>right</td>\n      <td>Jan 3, 2023</td>\n      <td>Jun 30, 2023</td>\n    </tr>\n    <tr>\n      <th>2</th>\n      <td>\\n\\n\\n\\n \\n\\n\\n                Artur Rudko    ...</td>\n      <td>May 7, 1992</td>\n      <td>1,90m</td>\n      <td>right</td>\n      <td>Jul 2, 2022</td>\n      <td>Jun 30, 2023</td>\n    </tr>\n    <tr>\n      <th>3</th>\n      <td>\\n\\n\\n\\n \\n\\n\\n                Antonio Milic  ...</td>\n      <td>Mar 10, 1994</td>\n      <td>1,90m</td>\n      <td>left</td>\n      <td>Jan 10, 2021</td>\n      <td>Jun 30, 2026</td>\n    </tr>\n    <tr>\n      <th>4</th>\n      <td>\\n\\n\\n\\n \\n\\n\\n                Filip Dagerstal...</td>\n      <td>Feb 1, 1997</td>\n      <td>1,89m</td>\n      <td>right</td>\n      <td>Jul 26, 2022</td>\n      <td>Jun 30, 2023</td>\n    </tr>\n    <tr>\n      <th>...</th>\n      <td>...</td>\n      <td>...</td>\n      <td>...</td>\n      <td>...</td>\n      <td>...</td>\n      <td>...</td>\n    </tr>\n    <tr>\n      <th>1632</th>\n      <td>\\n\\n\\n\\n \\n\\n\\n                Andriy Ponedeln...</td>\n      <td>Feb 28, 1997</td>\n      <td>1,80m</td>\n      <td>right</td>\n      <td>Jul 1, 2022</td>\n      <td>Jun 30, 2024</td>\n    </tr>\n    <tr>\n      <th>1633</th>\n      <td>\\n\\n\\n\\n \\n\\n\\n                Jean-Morel Poé ...</td>\n      <td>Dec 15, 1996</td>\n      <td>1,84m</td>\n      <td>left</td>\n      <td>Sep 22, 2022</td>\n      <td>Jun 30, 2023</td>\n    </tr>\n    <tr>\n      <th>1634</th>\n      <td>\\n\\n\\n\\n \\n\\n\\n                Maksym Zaderaka...</td>\n      <td>Sep 7, 1994</td>\n      <td>1,71m</td>\n      <td>right</td>\n      <td>Jul 11, 2022</td>\n      <td>Jun 30, 2023</td>\n    </tr>\n    <tr>\n      <th>1635</th>\n      <td>\\n\\n\\n\\n \\n\\n\\n                Roman Debelko  ...</td>\n      <td>Aug 8, 1993</td>\n      <td>1,87m</td>\n      <td>right</td>\n      <td>Jul 22, 2021</td>\n      <td>Dec 31, 2023</td>\n    </tr>\n    <tr>\n      <th>1636</th>\n      <td>\\n\\n\\n\\n \\n\\n\\n                Denys Ustymenko...</td>\n      <td>Apr 12, 1999</td>\n      <td>1,85m</td>\n      <td>right</td>\n      <td>Jul 1, 2022</td>\n      <td>Jun 30, 2025</td>\n    </tr>\n  </tbody>\n</table>\n<p>1637 rows × 6 columns</p>\n</div>"
     },
     "execution_count": 219,
     "metadata": {},
     "output_type": "execute_result"
    }
   ],
   "source": [
    "df"
   ],
   "metadata": {
    "collapsed": false
   }
  },
  {
   "cell_type": "code",
   "execution_count": 230,
   "outputs": [
    {
     "data": {
      "text/plain": "['Filip Bednarek', '', '', '', '', '', 'Goalkeeper']"
     },
     "execution_count": 230,
     "metadata": {},
     "output_type": "execute_result"
    }
   ],
   "source": [
    "df[\"name\"][0].replace('\\n', '').strip().split(\"    \")"
   ],
   "metadata": {
    "collapsed": false
   }
  },
  {
   "cell_type": "code",
   "execution_count": 231,
   "outputs": [],
   "source": [
    "def clean_name(x):\n",
    "    return x.replace('\\n', '').strip().split(\"    \")[0], x.replace('\\n', '').strip().split(\"    \")[-1]"
   ],
   "metadata": {
    "collapsed": false
   }
  },
  {
   "cell_type": "code",
   "execution_count": 233,
   "outputs": [
    {
     "data": {
      "text/plain": "('Filip Bednarek', 'Goalkeeper')"
     },
     "execution_count": 233,
     "metadata": {},
     "output_type": "execute_result"
    }
   ],
   "source": [
    "clean_name(df[\"name\"][0])"
   ],
   "metadata": {
    "collapsed": false
   }
  },
  {
   "cell_type": "code",
   "execution_count": 236,
   "outputs": [],
   "source": [
    "df[\"position\"] = df[\"name\"].apply(lambda x: clean_name(x)[1])\n",
    "df[\"name\"] = df[\"name\"].apply(lambda x: clean_name(x)[0])\n",
    "df[\"height\"] = df[\"height\"].apply(lambda x: float(x[:3].replace(\",\", \".\")) if x != \"-\" else None)"
   ],
   "metadata": {
    "collapsed": false
   }
  },
  {
   "cell_type": "code",
   "execution_count": 243,
   "outputs": [],
   "source": [],
   "metadata": {
    "collapsed": false
   }
  },
  {
   "cell_type": "code",
   "execution_count": 244,
   "outputs": [
    {
     "data": {
      "text/plain": "                   name date of birth  height   foot        joined  \\\n0        Filip Bednarek  Sep 26, 1992     1.8  right   Jul 1, 2020   \n1         Dominik Holec  Jul 28, 1994     1.9  right   Jan 3, 2023   \n2           Artur Rudko   May 7, 1992     1.9  right   Jul 2, 2022   \n3         Antonio Milic  Mar 10, 1994     1.9   left  Jan 10, 2021   \n4       Filip Dagerstal   Feb 1, 1997     1.8  right  Jul 26, 2022   \n...                 ...           ...     ...    ...           ...   \n1632  Andriy Ponedelnik  Feb 28, 1997     1.8  right   Jul 1, 2022   \n1633     Jean-Morel Poé  Dec 15, 1996     1.8   left  Sep 22, 2022   \n1634    Maksym Zaderaka   Sep 7, 1994     1.7  right  Jul 11, 2022   \n1635      Roman Debelko   Aug 8, 1993     1.8  right  Jul 22, 2021   \n1636    Denys Ustymenko  Apr 12, 1999     1.8  right   Jul 1, 2022   \n\n     contract until        position  \n0      Jun 30, 2025      Goalkeeper  \n1      Jun 30, 2023      Goalkeeper  \n2      Jun 30, 2023      Goalkeeper  \n3      Jun 30, 2026     Centre-Back  \n4      Jun 30, 2023     Centre-Back  \n...             ...             ...  \n1632   Jun 30, 2024    Right Winger  \n1633   Jun 30, 2023    Right Winger  \n1634   Jun 30, 2023    Right Winger  \n1635   Dec 31, 2023  Centre-Forward  \n1636   Jun 30, 2025  Centre-Forward  \n\n[1637 rows x 7 columns]",
      "text/html": "<div>\n<style scoped>\n    .dataframe tbody tr th:only-of-type {\n        vertical-align: middle;\n    }\n\n    .dataframe tbody tr th {\n        vertical-align: top;\n    }\n\n    .dataframe thead th {\n        text-align: right;\n    }\n</style>\n<table border=\"1\" class=\"dataframe\">\n  <thead>\n    <tr style=\"text-align: right;\">\n      <th></th>\n      <th>name</th>\n      <th>date of birth</th>\n      <th>height</th>\n      <th>foot</th>\n      <th>joined</th>\n      <th>contract until</th>\n      <th>position</th>\n    </tr>\n  </thead>\n  <tbody>\n    <tr>\n      <th>0</th>\n      <td>Filip Bednarek</td>\n      <td>Sep 26, 1992</td>\n      <td>1.8</td>\n      <td>right</td>\n      <td>Jul 1, 2020</td>\n      <td>Jun 30, 2025</td>\n      <td>Goalkeeper</td>\n    </tr>\n    <tr>\n      <th>1</th>\n      <td>Dominik Holec</td>\n      <td>Jul 28, 1994</td>\n      <td>1.9</td>\n      <td>right</td>\n      <td>Jan 3, 2023</td>\n      <td>Jun 30, 2023</td>\n      <td>Goalkeeper</td>\n    </tr>\n    <tr>\n      <th>2</th>\n      <td>Artur Rudko</td>\n      <td>May 7, 1992</td>\n      <td>1.9</td>\n      <td>right</td>\n      <td>Jul 2, 2022</td>\n      <td>Jun 30, 2023</td>\n      <td>Goalkeeper</td>\n    </tr>\n    <tr>\n      <th>3</th>\n      <td>Antonio Milic</td>\n      <td>Mar 10, 1994</td>\n      <td>1.9</td>\n      <td>left</td>\n      <td>Jan 10, 2021</td>\n      <td>Jun 30, 2026</td>\n      <td>Centre-Back</td>\n    </tr>\n    <tr>\n      <th>4</th>\n      <td>Filip Dagerstal</td>\n      <td>Feb 1, 1997</td>\n      <td>1.8</td>\n      <td>right</td>\n      <td>Jul 26, 2022</td>\n      <td>Jun 30, 2023</td>\n      <td>Centre-Back</td>\n    </tr>\n    <tr>\n      <th>...</th>\n      <td>...</td>\n      <td>...</td>\n      <td>...</td>\n      <td>...</td>\n      <td>...</td>\n      <td>...</td>\n      <td>...</td>\n    </tr>\n    <tr>\n      <th>1632</th>\n      <td>Andriy Ponedelnik</td>\n      <td>Feb 28, 1997</td>\n      <td>1.8</td>\n      <td>right</td>\n      <td>Jul 1, 2022</td>\n      <td>Jun 30, 2024</td>\n      <td>Right Winger</td>\n    </tr>\n    <tr>\n      <th>1633</th>\n      <td>Jean-Morel Poé</td>\n      <td>Dec 15, 1996</td>\n      <td>1.8</td>\n      <td>left</td>\n      <td>Sep 22, 2022</td>\n      <td>Jun 30, 2023</td>\n      <td>Right Winger</td>\n    </tr>\n    <tr>\n      <th>1634</th>\n      <td>Maksym Zaderaka</td>\n      <td>Sep 7, 1994</td>\n      <td>1.7</td>\n      <td>right</td>\n      <td>Jul 11, 2022</td>\n      <td>Jun 30, 2023</td>\n      <td>Right Winger</td>\n    </tr>\n    <tr>\n      <th>1635</th>\n      <td>Roman Debelko</td>\n      <td>Aug 8, 1993</td>\n      <td>1.8</td>\n      <td>right</td>\n      <td>Jul 22, 2021</td>\n      <td>Dec 31, 2023</td>\n      <td>Centre-Forward</td>\n    </tr>\n    <tr>\n      <th>1636</th>\n      <td>Denys Ustymenko</td>\n      <td>Apr 12, 1999</td>\n      <td>1.8</td>\n      <td>right</td>\n      <td>Jul 1, 2022</td>\n      <td>Jun 30, 2025</td>\n      <td>Centre-Forward</td>\n    </tr>\n  </tbody>\n</table>\n<p>1637 rows × 7 columns</p>\n</div>"
     },
     "execution_count": 244,
     "metadata": {},
     "output_type": "execute_result"
    }
   ],
   "source": [
    "df"
   ],
   "metadata": {
    "collapsed": false
   }
  },
  {
   "cell_type": "code",
   "execution_count": null,
   "outputs": [],
   "source": [],
   "metadata": {
    "collapsed": false
   }
  }
 ],
 "metadata": {
  "kernelspec": {
   "display_name": "Python 3",
   "language": "python",
   "name": "python3"
  },
  "language_info": {
   "codemirror_mode": {
    "name": "ipython",
    "version": 2
   },
   "file_extension": ".py",
   "mimetype": "text/x-python",
   "name": "python",
   "nbconvert_exporter": "python",
   "pygments_lexer": "ipython2",
   "version": "2.7.6"
  }
 },
 "nbformat": 4,
 "nbformat_minor": 0
}

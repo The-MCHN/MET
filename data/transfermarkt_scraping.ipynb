{
 "cells": [
  {
   "cell_type": "code",
   "execution_count": 68,
   "outputs": [],
   "source": [
    "import json\n",
    "import requests\n",
    "\n",
    "league_id = (\"PL1\", \"A1\", \"SLO1\", \"UKR1\")\n",
    "clubs = []\n",
    "\n"
   ],
   "metadata": {
    "collapsed": false
   }
  },
  {
   "cell_type": "code",
   "execution_count": 69,
   "outputs": [],
   "source": [
    "for league in league_id:\n",
    "    url = \"https://www.transfermarkt.co.uk/quickselect/teams/\"+league\n",
    "\n",
    "    payload = \"\"\n",
    "    headers = {\n",
    "    \"user-agent\": \"Mozilla/5.0 (Windows NT 10.0; Win64; x64) AppleWebKit/537.36 (KHTML, like Gecko) Chrome/109.0.0.0 Safari/537.36 OPR/95.0.0.0\"}\n",
    "\n",
    "    response = requests.request(\"GET\", url, data=payload, headers=headers)\n",
    "    for l in json.loads(response.text):\n",
    "        clubs.append(\"transfermarkt.co.uk\" + l[\"link\"])"
   ],
   "metadata": {
    "collapsed": false
   }
  },
  {
   "cell_type": "code",
   "execution_count": 70,
   "outputs": [
    {
     "data": {
      "text/plain": "['transfermarkt.co.uk/lech-poznan/startseite/verein/238',\n 'transfermarkt.co.uk/rakow-czestochowa/startseite/verein/9644',\n 'transfermarkt.co.uk/pogon-szczecin/startseite/verein/324',\n 'transfermarkt.co.uk/lechia-gdansk/startseite/verein/4000',\n 'transfermarkt.co.uk/piast-gliwice/startseite/verein/6112',\n 'transfermarkt.co.uk/wisla-plock/startseite/verein/2118',\n 'transfermarkt.co.uk/radomiak-radom/startseite/verein/7154',\n 'transfermarkt.co.uk/gornik-zabrze/startseite/verein/428',\n 'transfermarkt.co.uk/cracovia/startseite/verein/5689',\n 'transfermarkt.co.uk/legia-warszawa/startseite/verein/255',\n 'transfermarkt.co.uk/warta-poznan/startseite/verein/7146',\n 'transfermarkt.co.uk/jagiellonia-bialystok/startseite/verein/2300',\n 'transfermarkt.co.uk/zaglebie-lubin/startseite/verein/168',\n 'transfermarkt.co.uk/stal-mielec/startseite/verein/22431',\n 'transfermarkt.co.uk/slask-wroclaw/startseite/verein/759',\n 'transfermarkt.co.uk/miedz-legnica/startseite/verein/8936',\n 'transfermarkt.co.uk/widzew-lodz/startseite/verein/88',\n 'transfermarkt.co.uk/korona-kielce/startseite/verein/6110',\n 'transfermarkt.co.uk/red-bull-salzburg/startseite/verein/409',\n 'transfermarkt.co.uk/sk-sturm-graz/startseite/verein/122',\n 'transfermarkt.co.uk/austria-vienna/startseite/verein/14',\n 'transfermarkt.co.uk/wolfsberger-ac/startseite/verein/4441',\n 'transfermarkt.co.uk/rapid-vienna/startseite/verein/170',\n 'transfermarkt.co.uk/sk-austria-klagenfurt/startseite/verein/28760',\n 'transfermarkt.co.uk/wsg-tirol/startseite/verein/2446',\n 'transfermarkt.co.uk/lask/startseite/verein/413',\n 'transfermarkt.co.uk/scr-altach/startseite/verein/3551',\n 'transfermarkt.co.uk/sv-ried/startseite/verein/266',\n 'transfermarkt.co.uk/tsv-hartberg/startseite/verein/4467',\n 'transfermarkt.co.uk/sc-austria-lustenau/startseite/verein/541',\n 'transfermarkt.co.uk/slovan-bratislava/startseite/verein/540',\n 'transfermarkt.co.uk/dac-dunajska-streda/startseite/verein/4529',\n 'transfermarkt.co.uk/mfk-ruzomberok/startseite/verein/7087',\n 'transfermarkt.co.uk/spartak-trnava/startseite/verein/365',\n 'transfermarkt.co.uk/msk-zilina/startseite/verein/1443',\n 'transfermarkt.co.uk/as-trencin/startseite/verein/7918',\n 'transfermarkt.co.uk/zemplin-michalovce/startseite/verein/13744',\n 'transfermarkt.co.uk/tatran-liptovsky-mikulas/startseite/verein/20611',\n 'transfermarkt.co.uk/vion-zlate-moravce-vrable/startseite/verein/12005',\n 'transfermarkt.co.uk/fk-zeleziarne-podbrezova/startseite/verein/20063',\n 'transfermarkt.co.uk/mfk-dukla-banska-bystrica/startseite/verein/20758',\n 'transfermarkt.co.uk/mfk-skalica/startseite/verein/35488',\n 'transfermarkt.co.uk/shakhtar-donetsk/startseite/verein/660',\n 'transfermarkt.co.uk/dynamo-kyiv/startseite/verein/338',\n 'transfermarkt.co.uk/sk-dnipro-1/startseite/verein/60551',\n 'transfermarkt.co.uk/zorya-lugansk/startseite/verein/10690',\n 'transfermarkt.co.uk/vorskla-poltava/startseite/verein/2740',\n 'transfermarkt.co.uk/fk-oleksandriya/startseite/verein/18303',\n 'transfermarkt.co.uk/kolos-kovalivka/startseite/verein/48332',\n 'transfermarkt.co.uk/nk-veres-rivne/startseite/verein/26459',\n 'transfermarkt.co.uk/metalist-1925-kharkiv/startseite/verein/55686',\n 'transfermarkt.co.uk/rukh-lviv/startseite/verein/48726',\n 'transfermarkt.co.uk/pfk-lviv/startseite/verein/18105',\n 'transfermarkt.co.uk/chornomorets-odessa/startseite/verein/6992',\n 'transfermarkt.co.uk/ingulets-petrove/startseite/verein/49364',\n 'transfermarkt.co.uk/fk-minaj/startseite/verein/61825',\n 'transfermarkt.co.uk/metalist-kharkiv/startseite/verein/83678',\n 'transfermarkt.co.uk/kryvbas-kryvyi-rig/startseite/verein/3592']"
     },
     "execution_count": 70,
     "metadata": {},
     "output_type": "execute_result"
    }
   ],
   "source": [
    "clubs\n"
   ],
   "metadata": {
    "collapsed": false
   }
  },
  {
   "cell_type": "code",
   "execution_count": 70,
   "outputs": [],
   "source": [],
   "metadata": {
    "collapsed": false
   }
  },
  {
   "cell_type": "code",
   "execution_count": 70,
   "outputs": [],
   "source": [],
   "metadata": {
    "collapsed": false
   }
  },
  {
   "cell_type": "code",
   "execution_count": 70,
   "outputs": [],
   "source": [],
   "metadata": {
    "collapsed": false
   }
  },
  {
   "cell_type": "code",
   "execution_count": 70,
   "outputs": [],
   "source": [],
   "metadata": {
    "collapsed": false
   }
  },
  {
   "cell_type": "code",
   "execution_count": 70,
   "outputs": [],
   "source": [],
   "metadata": {
    "collapsed": false
   }
  },
  {
   "cell_type": "code",
   "execution_count": 70,
   "outputs": [],
   "source": [],
   "metadata": {
    "collapsed": false
   }
  }
 ],
 "metadata": {
  "kernelspec": {
   "display_name": "Python 3",
   "language": "python",
   "name": "python3"
  },
  "language_info": {
   "codemirror_mode": {
    "name": "ipython",
    "version": 2
   },
   "file_extension": ".py",
   "mimetype": "text/x-python",
   "name": "python",
   "nbconvert_exporter": "python",
   "pygments_lexer": "ipython2",
   "version": "2.7.6"
  }
 },
 "nbformat": 4,
 "nbformat_minor": 0
}
